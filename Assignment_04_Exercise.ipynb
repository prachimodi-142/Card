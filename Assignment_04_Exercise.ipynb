{
  "cells": [
    {
      "cell_type": "markdown",
      "metadata": {
        "id": "view-in-github",
        "colab_type": "text"
      },
      "source": [
        "<a href=\"https://colab.research.google.com/github/prachimodi-142/Card/blob/master/Assignment_04_Exercise.ipynb\" target=\"_parent\"><img src=\"https://colab.research.google.com/assets/colab-badge.svg\" alt=\"Open In Colab\"/></a>"
      ]
    },
    {
      "cell_type": "markdown",
      "metadata": {
        "id": "zmwWs4S9cRIn"
      },
      "source": [
        "# ECE 57000 Assignment 4 Exercise\n",
        "\n",
        "Your Name: Prachi Modi"
      ]
    },
    {
      "cell_type": "markdown",
      "metadata": {
        "id": "Vmlsa88cqmib"
      },
      "source": [
        "## Exercise 0: Train your model on GPU (0 points)"
      ]
    },
    {
      "cell_type": "markdown",
      "metadata": {
        "id": "WfirXJR3qvB0"
      },
      "source": [
        "For some tasks in this assignment, it can take a long time if you run it on CPU. For example, based on our test on Exercise 3 Task 4, it will take roughly 2 hours to train the full model for 1 epoch on CPU. Hence, we highly recommend you try to train your model on GPU.\n",
        "\n",
        "To do so, first you need to enable GPU on Colab (this will restart the runtime). Click `Runtime`-> `Change runtime type` and select the `Hardware accelerator` there.  You can then run the following code to see if the GPU is correctly initialized and available.\n",
        "\n"
      ]
    },
    {
      "cell_type": "code",
      "execution_count": null,
      "metadata": {
        "id": "TT7wKvilvBvX",
        "colab": {
          "base_uri": "https://localhost:8080/"
        },
        "outputId": "39130330-bd48-4656-c559-b84749e74558"
      },
      "outputs": [
        {
          "output_type": "stream",
          "name": "stdout",
          "text": [
            "Can I can use GPU now? -- True\n"
          ]
        }
      ],
      "source": [
        "import torch\n",
        "print(f'Can I can use GPU now? -- {torch.cuda.is_available()}')"
      ]
    },
    {
      "cell_type": "markdown",
      "metadata": {
        "id": "hnPPDoA7vQWp"
      },
      "source": [
        "### You must manually move your model and data to the GPU (and sometimes back to the cpu)\n",
        "After setting the GPU up on colab, then you should put your **model** and **data** to GPU. We give a simple example below. You can use `to` function for this task. See [torch.Tensor.to](https://pytorch.org/docs/stable/generated/torch.Tensor.to.html) to move a tensor to the GPU (probably your mini-batch of data in each iteration) or [torch.nn.Module.to](https://pytorch.org/docs/stable/generated/torch.nn.Module.html#torch.nn.Module.to) to move your NN model to GPU (assuming you create subclass [torch.nn.Module](https://pytorch.org/docs/stable/generated/torch.nn.Module.html)). Note that `to()` of tensor returns a NEW tensor while `to` of a NN model will apply this in-place. To be safe, the best semantics are `obj = obj.to(device)`. For printing, you will need to move a tensor back to the CPU via the `cpu()` function.\n",
        "\n",
        "Once the model and input data are on the GPU, everything else can be done the same.  This is the beauty of PyTorch GPU acceleration.  None of the other code needs to be altered.\n",
        "\n",
        "To summarize, you need to 1) enable GPU acceleration in Colab, 2) put the model on the GPU, and 3) put the input data (i.e., the batch of samples) onto the GPU using `to()` after it is loaded by the data loaders (usually you only put one batch of data on the GPU at a time)."
      ]
    },
    {
      "cell_type": "code",
      "execution_count": null,
      "metadata": {
        "id": "lUdR8v7Kt-6S",
        "colab": {
          "base_uri": "https://localhost:8080/"
        },
        "outputId": "2db7a4d0-f33c-483b-9343-db93243f254b"
      },
      "outputs": [
        {
          "output_type": "stream",
          "name": "stdout",
          "text": [
            "input is on cpu\n",
            "model parameters are on [device(type='cpu'), device(type='cpu'), device(type='cpu'), device(type='cpu')]\n",
            "output is on cpu\n",
            "input is on cuda:0\n",
            "model parameters are on [device(type='cuda', index=0), device(type='cuda', index=0), device(type='cuda', index=0), device(type='cuda', index=0)]\n",
            "output is on cuda:0\n"
          ]
        }
      ],
      "source": [
        "import torch.nn as nn\n",
        "rand_tensor = torch.rand(5,2)\n",
        "simple_model = nn.Sequential(nn.Linear(2,10), nn.ReLU(), nn.Linear(10,1))\n",
        "print(f'input is on {rand_tensor.device}')\n",
        "print(f'model parameters are on {[param.device for param in simple_model.parameters()]}')\n",
        "print(f'output is on {simple_model(rand_tensor).device}')\n",
        "\n",
        "device = torch.device('cuda' if torch.cuda.is_available() else 'cpu')\n",
        "# ----------- <Your code> ---------------\n",
        "# Move rand_tensor and model onto the GPU device\n",
        "rand_tensor = rand_tensor.to(device)\n",
        "simple_model = simple_model.to(device)\n",
        "# --------- <End your code> -------------\n",
        "print(f'input is on {rand_tensor.device}')\n",
        "print(f'model parameters are on {[param.device for param in simple_model.parameters()]}')\n",
        "print(f'output is on {simple_model(rand_tensor).device}')"
      ]
    },
    {
      "cell_type": "markdown",
      "metadata": {
        "id": "B08aL8QJ-_8b"
      },
      "source": [
        "Here is a helper function to print the accuracy given a model and loader"
      ]
    },
    {
      "cell_type": "code",
      "execution_count": null,
      "metadata": {
        "id": "Wo6R6utg-_8b"
      },
      "outputs": [],
      "source": [
        "def print_accuracy(model, test_loader):\n",
        "  # Note device should be defined globally from the previous cell\n",
        "  model.to(device)\n",
        "  correct, total = 0, 0\n",
        "  with torch.no_grad():\n",
        "    for data in test_loader:\n",
        "      images, labels = data\n",
        "      images = images.to(device)\n",
        "      labels = labels.to(device)\n",
        "      outputs = model(images)\n",
        "      _, predicted = torch.max(outputs.data, 1)\n",
        "      total += labels.size(0)\n",
        "      correct += (predicted == labels).sum().item()\n",
        "  print('Accuracy of the network on the test images: %d %%' % (\n",
        "    100 * correct / total))"
      ]
    },
    {
      "cell_type": "markdown",
      "metadata": {
        "id": "Zz2T0QYYpwVR"
      },
      "source": [
        "## Exercise 1: Why use a CNN rather than only fully connected layers? (40 points)\n",
        "\n",
        "In this exercise, you will build two models for the **MNIST** dataset: one uses only fully connected layers and another uses a standard CNN layout (convolution layers everywhere except the last layer is fully connected layer). Note, you will need to use cross entropy loss as your objective function. The two models should be built with roughly the same accuracy performance, your task is to compare the number of network parameters (a huge number of parameters can affect training/testing time, memory requirements, overfitting, etc.)."
      ]
    },
    {
      "cell_type": "markdown",
      "metadata": {
        "id": "DFKqew7r-E-q"
      },
      "source": [
        "### Task 1: Following the structure used in the instructions, you should create\n",
        "\n",
        "*   One network named **OurFC** which should consist with only fully connected layers\n",
        "\n",
        "  *   You should decide how many layers and how many hidden dimensions you want in your network \n",
        "  *   Your final accuracy on the test dataset should lie roughly around 90% ($\\pm$2%)\n",
        "  *   There is no need to make the neural network unnecessarily complex, your total training time should no longer than 3 mins\n",
        "\n",
        "*   Another network named **OurCNN** which applys a standard CNN structure\n",
        "  *   Again, you should decide how many layers and how many channels you want for each layer.\n",
        "  *   Your final accuracy on the test dataset should lie roughly around 90% ($\\pm$2%)\n",
        "  *   A standard CNN structure can be composed as **[Conv2d, MaxPooling, ReLU] x num_conv_layers + FC x num_fc_layers**\n",
        "\n",
        "* Train and test your network on MNIST data as in the instructions\n",
        "* You are **required** to print out the loss in the training and loss+accuracy in the test as in the instructions.\n",
        "* The code below will also print out the number of parameters for both neural networks to allow comparison.\n",
        "* (You can use multiple cells if helpful but make sure to run all of them to receive credit.)"
      ]
    },
    {
      "cell_type": "code",
      "source": [
        "# Parameters\n",
        "input_size = 784\n",
        "hidden_size = 200\n",
        "num_classes = 10\n",
        "learning_rate = 0.01\n",
        "batch_size_train = 64\n",
        "batch_size_test = 1000"
      ],
      "metadata": {
        "id": "qlV4wzn3kLz9"
      },
      "execution_count": null,
      "outputs": []
    },
    {
      "cell_type": "code",
      "source": [
        "# Data Loader for MNIST Dataset\n",
        "\n",
        "import torchvision\n",
        "transform = torchvision.transforms.Compose([torchvision.transforms.ToTensor(),\n",
        "                      torchvision.transforms.Normalize((0.1307,),(0.3081,))])\n",
        "\n",
        "train_dataset = torchvision.datasets.MNIST(root='../../data', \n",
        "                                           train=True, \n",
        "                                           transform=transform,  \n",
        "                                           download=True)\n",
        "\n",
        "test_dataset = torchvision.datasets.MNIST(root='../../data', \n",
        "                                          train=False, \n",
        "                                          transform=transform)\n",
        "\n",
        "# Data loader\n",
        "train_loader = torch.utils.data.DataLoader(dataset=train_dataset, \n",
        "                                           batch_size=batch_size_train, \n",
        "                                           shuffle=True)\n",
        "\n",
        "test_loader = torch.utils.data.DataLoader(dataset=test_dataset, \n",
        "                                          batch_size=batch_size_test, \n",
        "                                          shuffle=False)\n",
        "\n",
        "print(train_dataset)"
      ],
      "metadata": {
        "colab": {
          "base_uri": "https://localhost:8080/",
          "height": 579,
          "referenced_widgets": [
            "25a3a9d0340e4f46909f01dce725f56c",
            "0fb6a2570f35418694421bb54a54c3c6",
            "e811a0707201447aac5a1f7d18eb1100",
            "24f34e6d967a40129b7c82d8b3b99322",
            "d6f0e859470044a9b51fb357ed866339",
            "3ab7f0e3558f4926a14a3658e04b2d3f",
            "168419779dd14635aed72d6ba514b21f",
            "b55a2e4556fd45a9b1a4624583618c06",
            "14473a6dc69140aaaa51b2a03562cbf4",
            "dda62f7bc338403e954fa135fc97ad23",
            "794eecfa10b148bfa53f52ec3cfcff6e",
            "16f876a45e72424e884222d1d25bd578",
            "12c7fd674e6840e0abda6e01d6eab602",
            "0a2d01d6c6ec4db9b92ae6edc70071d7",
            "a5e80e58c65a4084a3746af3971bcb14",
            "22bc17920b714150bed34fdcf6369ae9",
            "9393776611834447b03ce47d701701b4",
            "defb50c63b3a45dc9f57c6c488508836",
            "4040c38035b5454995d46ee084e96707",
            "0770f752f3f5474e835a4a7a1e8bea62",
            "0620b37d4d0b459794d6127bddf5710e",
            "2267fce3ed0f4e5d910a5e9e4ff3884d",
            "632d258037bf4db9ab5f9cc8670e9037",
            "e8147662e95a49bd96b7ecd0e20e907a",
            "1fef8e773d8d498fb031e119c5feb0d1",
            "2a8f18a73f5441fc8ed43f1eadb5c15e",
            "d33e45593a164aea87e983509f136068",
            "8404444b1347492291e80eef37ed1c01",
            "87edfd74d4a54ca7a249ef0ae6ecf214",
            "c346264ec26b4840950d7f22b0bced45",
            "f00ef52a381e42e4858c98f5c3a88ed6",
            "e011c6199d8848349297dcfe4be3b896",
            "c4b4daa911c34a85824258782d562ad3",
            "b5f8529e08b8420aa0d133a9cc5508b4",
            "8f77a9ec10b84895a328f7fd64a925b1",
            "bd4415c9b5e942c3bb1bdf1a561501b6",
            "a5529e9b4a5e4022bbbc5d122d521bf5",
            "80d1a2c98e6141c48dc142917b367644",
            "9a605e1a195e49fd8b0ed27831447644",
            "067c82021fd0467fb9f17932ad05d7c6",
            "6d8c8d52beb742c28220c17e36f6b13b",
            "3f41198298f1450db9394f593c494bda",
            "eb6a60bf81a84dacbc95a69dda005a03",
            "0f389d1cf0cd40749f7a1554148ea00c"
          ]
        },
        "id": "VlER6HfkQowx",
        "outputId": "749cc973-0266-4389-b06c-49c7d2625084"
      },
      "execution_count": null,
      "outputs": [
        {
          "output_type": "stream",
          "name": "stdout",
          "text": [
            "Downloading http://yann.lecun.com/exdb/mnist/train-images-idx3-ubyte.gz\n",
            "Downloading http://yann.lecun.com/exdb/mnist/train-images-idx3-ubyte.gz to ../../data/MNIST/raw/train-images-idx3-ubyte.gz\n"
          ]
        },
        {
          "output_type": "display_data",
          "data": {
            "text/plain": [
              "  0%|          | 0/9912422 [00:00<?, ?it/s]"
            ],
            "application/vnd.jupyter.widget-view+json": {
              "version_major": 2,
              "version_minor": 0,
              "model_id": "25a3a9d0340e4f46909f01dce725f56c"
            }
          },
          "metadata": {}
        },
        {
          "output_type": "stream",
          "name": "stdout",
          "text": [
            "Extracting ../../data/MNIST/raw/train-images-idx3-ubyte.gz to ../../data/MNIST/raw\n",
            "\n",
            "Downloading http://yann.lecun.com/exdb/mnist/train-labels-idx1-ubyte.gz\n",
            "Downloading http://yann.lecun.com/exdb/mnist/train-labels-idx1-ubyte.gz to ../../data/MNIST/raw/train-labels-idx1-ubyte.gz\n"
          ]
        },
        {
          "output_type": "display_data",
          "data": {
            "text/plain": [
              "  0%|          | 0/28881 [00:00<?, ?it/s]"
            ],
            "application/vnd.jupyter.widget-view+json": {
              "version_major": 2,
              "version_minor": 0,
              "model_id": "16f876a45e72424e884222d1d25bd578"
            }
          },
          "metadata": {}
        },
        {
          "output_type": "stream",
          "name": "stdout",
          "text": [
            "Extracting ../../data/MNIST/raw/train-labels-idx1-ubyte.gz to ../../data/MNIST/raw\n",
            "\n",
            "Downloading http://yann.lecun.com/exdb/mnist/t10k-images-idx3-ubyte.gz\n",
            "Downloading http://yann.lecun.com/exdb/mnist/t10k-images-idx3-ubyte.gz to ../../data/MNIST/raw/t10k-images-idx3-ubyte.gz\n"
          ]
        },
        {
          "output_type": "display_data",
          "data": {
            "text/plain": [
              "  0%|          | 0/1648877 [00:00<?, ?it/s]"
            ],
            "application/vnd.jupyter.widget-view+json": {
              "version_major": 2,
              "version_minor": 0,
              "model_id": "632d258037bf4db9ab5f9cc8670e9037"
            }
          },
          "metadata": {}
        },
        {
          "output_type": "stream",
          "name": "stdout",
          "text": [
            "Extracting ../../data/MNIST/raw/t10k-images-idx3-ubyte.gz to ../../data/MNIST/raw\n",
            "\n",
            "Downloading http://yann.lecun.com/exdb/mnist/t10k-labels-idx1-ubyte.gz\n",
            "Downloading http://yann.lecun.com/exdb/mnist/t10k-labels-idx1-ubyte.gz to ../../data/MNIST/raw/t10k-labels-idx1-ubyte.gz\n"
          ]
        },
        {
          "output_type": "display_data",
          "data": {
            "text/plain": [
              "  0%|          | 0/4542 [00:00<?, ?it/s]"
            ],
            "application/vnd.jupyter.widget-view+json": {
              "version_major": 2,
              "version_minor": 0,
              "model_id": "b5f8529e08b8420aa0d133a9cc5508b4"
            }
          },
          "metadata": {}
        },
        {
          "output_type": "stream",
          "name": "stdout",
          "text": [
            "Extracting ../../data/MNIST/raw/t10k-labels-idx1-ubyte.gz to ../../data/MNIST/raw\n",
            "\n",
            "Dataset MNIST\n",
            "    Number of datapoints: 60000\n",
            "    Root location: ../../data\n",
            "    Split: Train\n",
            "    StandardTransform\n",
            "Transform: Compose(\n",
            "               ToTensor()\n",
            "               Normalize(mean=(0.1307,), std=(0.3081,))\n",
            "           )\n"
          ]
        }
      ]
    },
    {
      "cell_type": "code",
      "source": [
        "batch_idx, (images, targets) = next(enumerate(train_loader))\n",
        "print(f'current batch index is {batch_idx}')\n",
        "print(f'images has shape {images.size()}')\n",
        "print(f'targets has shape {targets.size()}')"
      ],
      "metadata": {
        "colab": {
          "base_uri": "https://localhost:8080/"
        },
        "id": "lkOVXyAMSAhX",
        "outputId": "49ecc00e-5fb3-4c9b-972d-1897ce60df34"
      },
      "execution_count": null,
      "outputs": [
        {
          "output_type": "stream",
          "name": "stdout",
          "text": [
            "current batch index is 0\n",
            "images has shape torch.Size([64, 1, 28, 28])\n",
            "targets has shape torch.Size([64])\n"
          ]
        }
      ]
    },
    {
      "cell_type": "code",
      "source": [
        "import torch.nn as nn\n",
        "import torch.nn.functional as F\n",
        "\n",
        "# Fully connected neural network\n",
        "class OurFC(nn.Module):\n",
        "    def __init__(self, input_size=784, hidden_size=200, num_classes=10):\n",
        "        super(OurFC, self).__init__()\n",
        "        self.fc1 = nn.Linear(input_size, hidden_size) \n",
        "        self.relu = nn.ReLU()\n",
        "        self.fc2 = nn.Linear(hidden_size, num_classes)  \n",
        "    \n",
        "    def forward(self, x):\n",
        "        x = self.fc1(x)\n",
        "        x = self.relu(x)\n",
        "        x = self.fc2(x)\n",
        "        return x\n",
        "\n",
        "ourfc = OurFC(input_size, hidden_size, num_classes).to(device)\n",
        "\n",
        "# Loss and optimizer\n",
        "loss_func = nn.CrossEntropyLoss()\n",
        "optimizer = torch.optim.SGD(ourfc.parameters(), lr=0.01, momentum=0.8)"
      ],
      "metadata": {
        "id": "G7h5278qPg-K"
      },
      "execution_count": null,
      "outputs": []
    },
    {
      "cell_type": "code",
      "source": [
        "max_epoch = 3\n",
        "# Train the model\n",
        "total_step = len(train_loader)\n",
        "ourfc.train()\n",
        "for epoch in range(max_epoch):\n",
        "    for i, (images, labels) in enumerate(train_loader):  \n",
        "        # Move tensors to the configured device\n",
        "        images = images.reshape(-1, 28*28).to(device)\n",
        "        labels = labels.to(device)\n",
        "        \n",
        "        # Forward pass\n",
        "        outputs = ourfc(images)\n",
        "        loss = loss_func(outputs, labels)\n",
        "        \n",
        "        # Backprpagation and optimization\n",
        "        optimizer.zero_grad()\n",
        "        loss.backward()\n",
        "        optimizer.step()\n",
        "        \n",
        "        if (i) % 100 == 0:\n",
        "            print(f'Epoch {epoch+1}: [{i*len(images)}/{len(train_loader.dataset)}] Loss: {loss.item()}')\n",
        "\n",
        "# Test the model\n",
        "# In the test phase, don't need to compute gradients (for memory efficiency)\n",
        "\n",
        "ourfc.eval()\n",
        "with torch.no_grad():\n",
        "    correct = 0\n",
        "    test_loss = 0\n",
        "    total = 0\n",
        "    for images, labels in test_loader:\n",
        "        images = images.reshape(-1, 28*28).to(device)\n",
        "        labels = labels.to(device)\n",
        "        outputs = ourfc(images)\n",
        "        test_loss += F.cross_entropy(outputs, labels, reduction='sum').item()\n",
        "        _, predicted = torch.max(outputs.data, 1)\n",
        "        total += labels.size(0)\n",
        "        correct += (predicted == labels).sum().item()\n",
        "\n",
        "    test_loss /= len(test_loader.dataset)\n",
        "    print(f'Test result on epoch {epoch+1}: Avg loss is {test_loss}, Accuracy: {100.*correct/len(test_loader.dataset)}%')"
      ],
      "metadata": {
        "colab": {
          "base_uri": "https://localhost:8080/"
        },
        "id": "xOVUcX7MYmTA",
        "outputId": "71aa4d1e-9311-4202-e62a-25baad63a226"
      },
      "execution_count": null,
      "outputs": [
        {
          "output_type": "stream",
          "name": "stdout",
          "text": [
            "Epoch 1: [0/60000] Loss: 2.3641343116760254\n",
            "Epoch 1: [6400/60000] Loss: 0.5891022086143494\n",
            "Epoch 1: [12800/60000] Loss: 0.2884142994880676\n",
            "Epoch 1: [19200/60000] Loss: 0.18962767720222473\n",
            "Epoch 1: [25600/60000] Loss: 0.19178329408168793\n",
            "Epoch 1: [32000/60000] Loss: 0.20413628220558167\n",
            "Epoch 1: [38400/60000] Loss: 0.2893921434879303\n",
            "Epoch 1: [44800/60000] Loss: 0.16354063153266907\n",
            "Epoch 1: [51200/60000] Loss: 0.21832728385925293\n",
            "Epoch 1: [57600/60000] Loss: 0.2677666246891022\n",
            "Epoch 2: [0/60000] Loss: 0.32205209136009216\n",
            "Epoch 2: [6400/60000] Loss: 0.25004369020462036\n",
            "Epoch 2: [12800/60000] Loss: 0.21090586483478546\n",
            "Epoch 2: [19200/60000] Loss: 0.1557510942220688\n",
            "Epoch 2: [25600/60000] Loss: 0.07823650538921356\n",
            "Epoch 2: [32000/60000] Loss: 0.16151615977287292\n",
            "Epoch 2: [38400/60000] Loss: 0.18549984693527222\n",
            "Epoch 2: [44800/60000] Loss: 0.06029805913567543\n",
            "Epoch 2: [51200/60000] Loss: 0.12005260586738586\n",
            "Epoch 2: [57600/60000] Loss: 0.09066401422023773\n",
            "Epoch 3: [0/60000] Loss: 0.13050855696201324\n",
            "Epoch 3: [6400/60000] Loss: 0.10489390790462494\n",
            "Epoch 3: [12800/60000] Loss: 0.04856639727950096\n",
            "Epoch 3: [19200/60000] Loss: 0.07949431985616684\n",
            "Epoch 3: [25600/60000] Loss: 0.2073163241147995\n",
            "Epoch 3: [32000/60000] Loss: 0.05804188549518585\n",
            "Epoch 3: [38400/60000] Loss: 0.07211599498987198\n",
            "Epoch 3: [44800/60000] Loss: 0.23240552842617035\n",
            "Epoch 3: [51200/60000] Loss: 0.13915833830833435\n",
            "Epoch 3: [57600/60000] Loss: 0.06870169937610626\n",
            "Test result on epoch 3: Avg loss is 0.1026877456665039, Accuracy: 96.9%\n"
          ]
        }
      ]
    },
    {
      "cell_type": "code",
      "source": [
        "# Convolutional neural network (two convolutional layers)\n",
        "class OurCNN(nn.Module):\n",
        "    def __init__(self, num_classes=10):\n",
        "        super(OurCNN, self).__init__()\n",
        "        self.layer1 = nn.Sequential(\n",
        "            nn.Conv2d(1, 16, kernel_size=5, stride=1, padding=2),\n",
        "            nn.ReLU(),\n",
        "            nn.MaxPool2d(kernel_size=2, stride=2))\n",
        "        self.layer2 = nn.Sequential(\n",
        "            nn.Conv2d(16, 32, kernel_size=5, stride=1, padding=2),\n",
        "            nn.ReLU(),\n",
        "            nn.MaxPool2d(kernel_size=2, stride=2))\n",
        "        self.fc = nn.Linear(7*7*32, num_classes)\n",
        "        \n",
        "    def forward(self, x):\n",
        "        out = self.layer1(x)\n",
        "        out = self.layer2(out)\n",
        "        out = out.reshape(out.size(0), -1)\n",
        "        out = self.fc(out)\n",
        "        return out\n",
        "\n",
        "ourcnn = OurCNN(num_classes).to(device)\n",
        "\n",
        "# Loss and optimizer\n",
        "loss_func = nn.CrossEntropyLoss()\n",
        "optimizer = torch.optim.SGD(ourcnn.parameters(), lr=learning_rate)"
      ],
      "metadata": {
        "id": "zFi0nyzJxBq8"
      },
      "execution_count": null,
      "outputs": []
    },
    {
      "cell_type": "code",
      "source": [
        "max_epoch = 3\n",
        "# Train the model\n",
        "total_step = len(train_loader)\n",
        "ourcnn.train()\n",
        "for epoch in range(max_epoch):\n",
        "    for i, (images, labels) in enumerate(train_loader):  \n",
        "        # Move tensors to the configured device\n",
        "        images = images.to(device)\n",
        "        labels = labels.to(device)\n",
        "        \n",
        "        # Forward pass\n",
        "        outputs = ourcnn(images)\n",
        "        loss = loss_func(outputs, labels)\n",
        "        \n",
        "        # Backprpagation and optimization\n",
        "        optimizer.zero_grad()\n",
        "        loss.backward()\n",
        "        optimizer.step()\n",
        "        \n",
        "        if (i) % 100 == 0:\n",
        "            print(f'Epoch {epoch+1}: [{i*len(images)}/{len(train_loader.dataset)}] Loss: {loss.item()}')\n",
        "\n",
        "# Test the model\n",
        "# In the test phase, don't need to compute gradients (for memory efficiency)\n",
        "\n",
        "ourcnn.eval()\n",
        "with torch.no_grad():\n",
        "    correct = 0\n",
        "    test_loss = 0\n",
        "    total = 0\n",
        "    for images, labels in test_loader:\n",
        "        images = images.to(device)\n",
        "        labels = labels.to(device)\n",
        "        outputs = ourcnn(images)\n",
        "        test_loss += F.cross_entropy(outputs, labels, reduction='sum').item()\n",
        "        _, predicted = torch.max(outputs.data, 1)\n",
        "        total += labels.size(0)\n",
        "        correct += (predicted == labels).sum().item()\n",
        "\n",
        "    test_loss /= len(test_loader.dataset)\n",
        "    print(f'Test result on epoch {epoch+1}: Avg loss is {test_loss}, Accuracy: {100.*correct/len(test_loader.dataset)}%')"
      ],
      "metadata": {
        "colab": {
          "base_uri": "https://localhost:8080/"
        },
        "id": "WwWa8wjexxCD",
        "outputId": "8fef9156-4fb2-4924-b1b3-daa357dd7a96"
      },
      "execution_count": null,
      "outputs": [
        {
          "output_type": "stream",
          "name": "stdout",
          "text": [
            "Epoch 1: [0/60000] Loss: 2.351029396057129\n",
            "Epoch 1: [6400/60000] Loss: 0.7598375678062439\n",
            "Epoch 1: [12800/60000] Loss: 0.330857515335083\n",
            "Epoch 1: [19200/60000] Loss: 0.4593142569065094\n",
            "Epoch 1: [25600/60000] Loss: 0.22372187674045563\n",
            "Epoch 1: [32000/60000] Loss: 0.3242632746696472\n",
            "Epoch 1: [38400/60000] Loss: 0.09722723066806793\n",
            "Epoch 1: [44800/60000] Loss: 0.08651991933584213\n",
            "Epoch 1: [51200/60000] Loss: 0.2382875680923462\n",
            "Epoch 1: [57600/60000] Loss: 0.10674804449081421\n",
            "Epoch 2: [0/60000] Loss: 0.18886561691761017\n",
            "Epoch 2: [6400/60000] Loss: 0.17673611640930176\n",
            "Epoch 2: [12800/60000] Loss: 0.21631300449371338\n",
            "Epoch 2: [19200/60000] Loss: 0.05918968468904495\n",
            "Epoch 2: [25600/60000] Loss: 0.11956395208835602\n",
            "Epoch 2: [32000/60000] Loss: 0.044836126267910004\n",
            "Epoch 2: [38400/60000] Loss: 0.14044426381587982\n",
            "Epoch 2: [44800/60000] Loss: 0.08914348483085632\n",
            "Epoch 2: [51200/60000] Loss: 0.14267396926879883\n",
            "Epoch 2: [57600/60000] Loss: 0.07359713315963745\n",
            "Epoch 3: [0/60000] Loss: 0.19814079999923706\n",
            "Epoch 3: [6400/60000] Loss: 0.027976766228675842\n",
            "Epoch 3: [12800/60000] Loss: 0.09817895293235779\n",
            "Epoch 3: [19200/60000] Loss: 0.05377805978059769\n",
            "Epoch 3: [25600/60000] Loss: 0.03936216980218887\n",
            "Epoch 3: [32000/60000] Loss: 0.18474847078323364\n",
            "Epoch 3: [38400/60000] Loss: 0.01790418103337288\n",
            "Epoch 3: [44800/60000] Loss: 0.03208404406905174\n",
            "Epoch 3: [51200/60000] Loss: 0.14414796233177185\n",
            "Epoch 3: [57600/60000] Loss: 0.09911328554153442\n",
            "Test result on epoch 3: Avg loss is 0.06189483699798584, Accuracy: 98.14%\n"
          ]
        }
      ]
    },
    {
      "cell_type": "code",
      "execution_count": null,
      "metadata": {
        "id": "FIVO5T4JgA_N",
        "colab": {
          "base_uri": "https://localhost:8080/"
        },
        "outputId": "05641837-0275-4a5a-9774-3bb6f1ee559a"
      },
      "outputs": [
        {
          "output_type": "stream",
          "name": "stdout",
          "text": [
            "OurFC has a total of 159010 parameters\n",
            "OurCNN has a total of 28938 parameters\n"
          ]
        }
      ],
      "source": [
        "# ----------- <Your code> ---------------\n",
        "\n",
        "# ----------- <End Your code> ---------------\n",
        "\n",
        "ourfc = OurFC()\n",
        "total_params = sum(p.numel() for p in ourfc.parameters())\n",
        "print(f'OurFC has a total of {total_params} parameters')\n",
        "\n",
        "ourcnn = OurCNN()\n",
        "total_params = sum(p.numel() for p in ourcnn.parameters())\n",
        "print(f'OurCNN has a total of {total_params} parameters')"
      ]
    },
    {
      "cell_type": "markdown",
      "metadata": {
        "id": "v5oMKOrhmfpM"
      },
      "source": [
        "Questions (0 points, just for understanding): Which one has more parameters?  Which one is likely to have less computational cost when deployed? Which one took longer to train?"
      ]
    },
    {
      "cell_type": "markdown",
      "metadata": {
        "id": "290mOBEHgEXr"
      },
      "source": [
        "## Exercise 2: Train classifier on CIFAR-10 data. (30 points)\n",
        "Now, lets move our dataset to color images. CIFAR-10 dataset is another widely used dataset. Here all images have colors, i.e each image has 3 color channels instead of only one channel in MNIST. You need to pay more attention to the dimension of the data as it passes through the layers of your network."
      ]
    },
    {
      "cell_type": "markdown",
      "metadata": {
        "id": "IHClZywoGwWt"
      },
      "source": [
        "### Task 1: Create data loaders \n",
        "* Load CIFAR10 train and test datas with appropriate composite transform where the normalize transform should be `transforms.Normalize((0.5, 0.5, 0.5), (0.5, 0.5, 0.5))])`.\n",
        "* Set up a `train_loader` and `test_loader` for the CIFAR-10 data with a batch size of 9 similar to the instructions.\n",
        "* The code below will plot a 3 x 3 subplot of images including their labels. (do not modify)"
      ]
    },
    {
      "cell_type": "code",
      "execution_count": null,
      "metadata": {
        "id": "ANpwc7CSPlYP",
        "colab": {
          "base_uri": "https://localhost:8080/",
          "height": 1000,
          "referenced_widgets": [
            "96c630deb5aa40998789e0f888e60485",
            "dfdf885f0b424d2c9e6c1bf106f5770d",
            "c692af083809457ebaab84c102e17d26",
            "1a1dc0571d284bcfb9aa13d000c786a7",
            "922b24bdf33e4b7c80d316ab9e6738e0",
            "d2cdc6d87d674f28a6a40de905338148",
            "df86368d2d6e4a3d97e67ea66921860b",
            "522bc77c5d6c43e4be16702a1cc33888",
            "fa49327065514532a271b2b26938d750",
            "e29a12685ffb41b092eac92c478b3855",
            "632f503daba64effb5a601419cc81618"
          ]
        },
        "outputId": "e3ce9975-839f-408f-fa52-cc6d755d6673"
      },
      "outputs": [
        {
          "output_type": "stream",
          "name": "stdout",
          "text": [
            "Downloading https://www.cs.toronto.edu/~kriz/cifar-10-python.tar.gz to ./data/cifar-10-python.tar.gz\n"
          ]
        },
        {
          "output_type": "display_data",
          "data": {
            "text/plain": [
              "  0%|          | 0/170498071 [00:00<?, ?it/s]"
            ],
            "application/vnd.jupyter.widget-view+json": {
              "version_major": 2,
              "version_minor": 0,
              "model_id": "96c630deb5aa40998789e0f888e60485"
            }
          },
          "metadata": {}
        },
        {
          "output_type": "stream",
          "name": "stdout",
          "text": [
            "Extracting ./data/cifar-10-python.tar.gz to ./data\n",
            "Files already downloaded and verified\n"
          ]
        },
        {
          "output_type": "display_data",
          "data": {
            "text/plain": [
              "<Figure size 1152x1152 with 9 Axes>"
            ],
            "image/png": "[encoded data removed]"
          },
          "metadata": {
            "needs_background": "light"
          }
        }
      ],
      "source": [
        "import torch\n",
        "import torchvision\n",
        "import torchvision.transforms as transforms\n",
        "import matplotlib.pyplot as plt\n",
        "\n",
        "batch_size = 9\n",
        "\n",
        "classes = ('plane', 'car', 'bird', 'cat', 'deer', 'dog', 'frog', 'horse', 'ship', 'truck')\n",
        "\n",
        "# Create the appropriate transform, load/download CIFAR10 train and test datasets with transform\n",
        "# ----------- <Your code> ---------------\n",
        "transform = transforms.Compose(\n",
        "    [transforms.ToTensor(),\n",
        "     transforms.Normalize((0.5, 0.5, 0.5), (0.5, 0.5, 0.5))])\n",
        "\n",
        "trainset = torchvision.datasets.CIFAR10(root='./data', train=True,\n",
        "                                        download=True, transform=transform)\n",
        "\n",
        "\n",
        "testset = torchvision.datasets.CIFAR10(root='./data', train=False,\n",
        "                                       download=True, transform=transform)\n",
        "\n",
        "# ----------- <End Your code> ---------------\n",
        "\n",
        "# Define train_loader and test_loader\n",
        "# ----------- <Your code> ---------------\n",
        "train_loader = torch.utils.data.DataLoader(trainset, batch_size=batch_size,\n",
        "                                          shuffle=True, num_workers=2)\n",
        "\n",
        "test_loader = torch.utils.data.DataLoader(testset, batch_size=batch_size,\n",
        "                                         shuffle=False, num_workers=2)\n",
        "# ----------- <End Your code> ---------------\n",
        "\n",
        "# Code to display images\n",
        "batch_idx, (images, targets) = next(enumerate(train_loader))\n",
        "fig, ax = plt.subplots(3,3,figsize = (16,16))\n",
        "fig.set_size_inches(16,16)\n",
        "for i in range(3):\n",
        "  for j in range(3):\n",
        "    image = images[i*3+j].permute(1,2,0)\n",
        "    image = image/2 + 0.5\n",
        "    ax[i,j].imshow(image)\n",
        "    ax[i,j].set_title(f'{classes[targets[i*3+j]]}')\n",
        "fig.show()"
      ]
    },
    {
      "cell_type": "markdown",
      "metadata": {
        "id": "f0FMDyDzijEG"
      },
      "source": [
        "### Task 2: Create CNN and train it\n",
        "Set up a convolutional neural network and have your data trained on it. You have to decide all the details in your network, overall your neural network should meet the following standards to receive full credit:\n",
        "\n",
        "*   You should not use more than three convolutional layers and three fully connected layers\n",
        "*   Accuracy on the test dataset should be **above** 50%\n",
        "\n"
      ]
    },
    {
      "cell_type": "code",
      "execution_count": null,
      "metadata": {
        "id": "cRuEf8tAlnsP",
        "colab": {
          "base_uri": "https://localhost:8080/"
        },
        "outputId": "b5320b18-59dc-44c1-b2a0-598c475338ba"
      },
      "outputs": [
        {
          "output_type": "stream",
          "name": "stdout",
          "text": [
            "Epoch 1: [0/50000] Loss: 2.250335931777954\n",
            "Epoch 1: [900/50000] Loss: 2.3090243339538574\n",
            "Epoch 1: [1800/50000] Loss: 2.277477264404297\n",
            "Epoch 1: [2700/50000] Loss: 2.285922050476074\n",
            "Epoch 1: [3600/50000] Loss: 2.299201726913452\n",
            "Epoch 1: [4500/50000] Loss: 2.2971079349517822\n",
            "Epoch 1: [5400/50000] Loss: 2.2872395515441895\n",
            "Epoch 1: [6300/50000] Loss: 2.292125701904297\n",
            "Epoch 1: [7200/50000] Loss: 2.2570908069610596\n",
            "Epoch 1: [8100/50000] Loss: 2.228307008743286\n",
            "Epoch 1: [9000/50000] Loss: 2.2087202072143555\n",
            "Epoch 1: [9900/50000] Loss: 2.0964298248291016\n",
            "Epoch 1: [10800/50000] Loss: 2.241042137145996\n",
            "Epoch 1: [11700/50000] Loss: 1.7854851484298706\n",
            "Epoch 1: [12600/50000] Loss: 2.2049484252929688\n",
            "Epoch 1: [13500/50000] Loss: 2.046616554260254\n",
            "Epoch 1: [14400/50000] Loss: 1.664259433746338\n",
            "Epoch 1: [15300/50000] Loss: 2.1115479469299316\n",
            "Epoch 1: [16200/50000] Loss: 2.177534341812134\n",
            "Epoch 1: [17100/50000] Loss: 2.0633132457733154\n",
            "Epoch 1: [18000/50000] Loss: 1.802795648574829\n",
            "Epoch 1: [18900/50000] Loss: 1.5257515907287598\n",
            "Epoch 1: [19800/50000] Loss: 1.8073357343673706\n",
            "Epoch 1: [20700/50000] Loss: 1.5036641359329224\n",
            "Epoch 1: [21600/50000] Loss: 1.9263240098953247\n",
            "Epoch 1: [22500/50000] Loss: 1.4767811298370361\n",
            "Epoch 1: [23400/50000] Loss: 2.026401996612549\n",
            "Epoch 1: [24300/50000] Loss: 1.6914470195770264\n",
            "Epoch 1: [25200/50000] Loss: 1.3788644075393677\n",
            "Epoch 1: [26100/50000] Loss: 1.98495352268219\n",
            "Epoch 1: [27000/50000] Loss: 1.3948264122009277\n",
            "Epoch 1: [27900/50000] Loss: 1.5003076791763306\n",
            "Epoch 1: [28800/50000] Loss: 2.3836679458618164\n",
            "Epoch 1: [29700/50000] Loss: 1.3585578203201294\n",
            "Epoch 1: [30600/50000] Loss: 2.0475504398345947\n",
            "Epoch 1: [31500/50000] Loss: 1.6440186500549316\n",
            "Epoch 1: [32400/50000] Loss: 1.7854194641113281\n",
            "Epoch 1: [33300/50000] Loss: 1.386456847190857\n",
            "Epoch 1: [34200/50000] Loss: 1.768312931060791\n",
            "Epoch 1: [35100/50000] Loss: 1.4829267263412476\n",
            "Epoch 1: [36000/50000] Loss: 1.595107078552246\n",
            "Epoch 1: [36900/50000] Loss: 1.1427102088928223\n",
            "Epoch 1: [37800/50000] Loss: 1.2887786626815796\n",
            "Epoch 1: [38700/50000] Loss: 1.781638503074646\n",
            "Epoch 1: [39600/50000] Loss: 1.2472147941589355\n",
            "Epoch 1: [40500/50000] Loss: 1.3709384202957153\n",
            "Epoch 1: [41400/50000] Loss: 2.8173940181732178\n",
            "Epoch 1: [42300/50000] Loss: 1.9405441284179688\n",
            "Epoch 1: [43200/50000] Loss: 1.9682282209396362\n",
            "Epoch 1: [44100/50000] Loss: 1.5333633422851562\n",
            "Epoch 1: [45000/50000] Loss: 1.9878404140472412\n",
            "Epoch 1: [45900/50000] Loss: 1.5834647417068481\n",
            "Epoch 1: [46800/50000] Loss: 1.32406485080719\n",
            "Epoch 1: [47700/50000] Loss: 1.8268495798110962\n",
            "Epoch 1: [48600/50000] Loss: 1.4247114658355713\n",
            "Epoch 1: [49500/50000] Loss: 1.5875320434570312\n",
            "Epoch 2: [0/50000] Loss: 2.0418760776519775\n",
            "Epoch 2: [900/50000] Loss: 1.5168261528015137\n",
            "Epoch 2: [1800/50000] Loss: 1.5729660987854004\n",
            "Epoch 2: [2700/50000] Loss: 1.4506795406341553\n",
            "Epoch 2: [3600/50000] Loss: 1.775451898574829\n",
            "Epoch 2: [4500/50000] Loss: 0.883843183517456\n",
            "Epoch 2: [5400/50000] Loss: 1.455864429473877\n",
            "Epoch 2: [6300/50000] Loss: 1.817368984222412\n",
            "Epoch 2: [7200/50000] Loss: 0.7688996195793152\n",
            "Epoch 2: [8100/50000] Loss: 1.5914934873580933\n",
            "Epoch 2: [9000/50000] Loss: 1.1990561485290527\n",
            "Epoch 2: [9900/50000] Loss: 1.4133578538894653\n",
            "Epoch 2: [10800/50000] Loss: 1.5746225118637085\n",
            "Epoch 2: [11700/50000] Loss: 1.5628156661987305\n",
            "Epoch 2: [12600/50000] Loss: 1.2516207695007324\n",
            "Epoch 2: [13500/50000] Loss: 1.568835735321045\n",
            "Epoch 2: [14400/50000] Loss: 1.9674044847488403\n",
            "Epoch 2: [15300/50000] Loss: 1.5923877954483032\n",
            "Epoch 2: [16200/50000] Loss: 1.5891296863555908\n",
            "Epoch 2: [17100/50000] Loss: 1.1560940742492676\n",
            "Epoch 2: [18000/50000] Loss: 1.5369746685028076\n",
            "Epoch 2: [18900/50000] Loss: 1.4351117610931396\n",
            "Epoch 2: [19800/50000] Loss: 1.1974114179611206\n",
            "Epoch 2: [20700/50000] Loss: 1.1162177324295044\n",
            "Epoch 2: [21600/50000] Loss: 1.2774639129638672\n",
            "Epoch 2: [22500/50000] Loss: 1.0250699520111084\n",
            "Epoch 2: [23400/50000] Loss: 1.5790700912475586\n",
            "Epoch 2: [24300/50000] Loss: 2.4625751972198486\n",
            "Epoch 2: [25200/50000] Loss: 1.4385918378829956\n",
            "Epoch 2: [26100/50000] Loss: 1.6024545431137085\n",
            "Epoch 2: [27000/50000] Loss: 1.6722254753112793\n",
            "Epoch 2: [27900/50000] Loss: 1.8084757328033447\n",
            "Epoch 2: [28800/50000] Loss: 1.6241244077682495\n",
            "Epoch 2: [29700/50000] Loss: 1.1172627210617065\n",
            "Epoch 2: [30600/50000] Loss: 1.4692925214767456\n",
            "Epoch 2: [31500/50000] Loss: 1.3889609575271606\n",
            "Epoch 2: [32400/50000] Loss: 0.5615832805633545\n",
            "Epoch 2: [33300/50000] Loss: 1.4742683172225952\n",
            "Epoch 2: [34200/50000] Loss: 1.0628371238708496\n",
            "Epoch 2: [35100/50000] Loss: 0.6826751232147217\n",
            "Epoch 2: [36000/50000] Loss: 1.8794142007827759\n",
            "Epoch 2: [36900/50000] Loss: 1.484133243560791\n",
            "Epoch 2: [37800/50000] Loss: 1.7892816066741943\n",
            "Epoch 2: [38700/50000] Loss: 1.272757887840271\n",
            "Epoch 2: [39600/50000] Loss: 1.4021605253219604\n",
            "Epoch 2: [40500/50000] Loss: 1.0438705682754517\n",
            "Epoch 2: [41400/50000] Loss: 1.3435394763946533\n",
            "Epoch 2: [42300/50000] Loss: 1.6910760402679443\n",
            "Epoch 2: [43200/50000] Loss: 0.9812656044960022\n",
            "Epoch 2: [44100/50000] Loss: 1.160008192062378\n",
            "Epoch 2: [45000/50000] Loss: 1.2529382705688477\n",
            "Epoch 2: [45900/50000] Loss: 1.0276762247085571\n",
            "Epoch 2: [46800/50000] Loss: 1.0810537338256836\n",
            "Epoch 2: [47700/50000] Loss: 1.5947529077529907\n",
            "Epoch 2: [48600/50000] Loss: 1.5167659521102905\n",
            "Epoch 2: [49500/50000] Loss: 0.917400062084198\n",
            "Epoch 3: [0/50000] Loss: 1.0666999816894531\n",
            "Epoch 3: [900/50000] Loss: 1.0896438360214233\n",
            "Epoch 3: [1800/50000] Loss: 1.0043449401855469\n",
            "Epoch 3: [2700/50000] Loss: 1.2080453634262085\n",
            "Epoch 3: [3600/50000] Loss: 1.2769078016281128\n",
            "Epoch 3: [4500/50000] Loss: 0.7828497290611267\n",
            "Epoch 3: [5400/50000] Loss: 1.4393861293792725\n",
            "Epoch 3: [6300/50000] Loss: 1.089482069015503\n",
            "Epoch 3: [7200/50000] Loss: 1.0449002981185913\n",
            "Epoch 3: [8100/50000] Loss: 1.502739429473877\n",
            "Epoch 3: [9000/50000] Loss: 1.2808290719985962\n",
            "Epoch 3: [9900/50000] Loss: 1.2023729085922241\n",
            "Epoch 3: [10800/50000] Loss: 0.9774859547615051\n",
            "Epoch 3: [11700/50000] Loss: 1.4405746459960938\n",
            "Epoch 3: [12600/50000] Loss: 1.6156095266342163\n",
            "Epoch 3: [13500/50000] Loss: 0.47841405868530273\n",
            "Epoch 3: [14400/50000] Loss: 1.4937561750411987\n",
            "Epoch 3: [15300/50000] Loss: 1.4655451774597168\n",
            "Epoch 3: [16200/50000] Loss: 1.0114870071411133\n",
            "Epoch 3: [17100/50000] Loss: 1.1775124073028564\n",
            "Epoch 3: [18000/50000] Loss: 1.5159233808517456\n",
            "Epoch 3: [18900/50000] Loss: 1.105999231338501\n",
            "Epoch 3: [19800/50000] Loss: 1.7414261102676392\n",
            "Epoch 3: [20700/50000] Loss: 1.1341066360473633\n",
            "Epoch 3: [21600/50000] Loss: 1.1475683450698853\n",
            "Epoch 3: [22500/50000] Loss: 1.225931167602539\n",
            "Epoch 3: [23400/50000] Loss: 1.7869993448257446\n",
            "Epoch 3: [24300/50000] Loss: 0.7021833062171936\n",
            "Epoch 3: [25200/50000] Loss: 1.0334094762802124\n",
            "Epoch 3: [26100/50000] Loss: 1.70278799533844\n",
            "Epoch 3: [27000/50000] Loss: 1.4953389167785645\n",
            "Epoch 3: [27900/50000] Loss: 1.01850163936615\n",
            "Epoch 3: [28800/50000] Loss: 1.0385918617248535\n",
            "Epoch 3: [29700/50000] Loss: 1.1866869926452637\n",
            "Epoch 3: [30600/50000] Loss: 1.0589998960494995\n",
            "Epoch 3: [31500/50000] Loss: 1.2183146476745605\n",
            "Epoch 3: [32400/50000] Loss: 1.561164379119873\n",
            "Epoch 3: [33300/50000] Loss: 1.239424467086792\n",
            "Epoch 3: [34200/50000] Loss: 1.0185189247131348\n",
            "Epoch 3: [35100/50000] Loss: 2.0123438835144043\n",
            "Epoch 3: [36000/50000] Loss: 0.7506291270256042\n",
            "Epoch 3: [36900/50000] Loss: 1.5130242109298706\n",
            "Epoch 3: [37800/50000] Loss: 1.5080657005310059\n",
            "Epoch 3: [38700/50000] Loss: 1.6831212043762207\n",
            "Epoch 3: [39600/50000] Loss: 0.5807581543922424\n",
            "Epoch 3: [40500/50000] Loss: 1.168703317642212\n",
            "Epoch 3: [41400/50000] Loss: 1.4495160579681396\n",
            "Epoch 3: [42300/50000] Loss: 1.7488491535186768\n",
            "Epoch 3: [43200/50000] Loss: 1.2212697267532349\n",
            "Epoch 3: [44100/50000] Loss: 0.822027862071991\n",
            "Epoch 3: [45000/50000] Loss: 1.4812091588974\n",
            "Epoch 3: [45900/50000] Loss: 2.011099100112915\n",
            "Epoch 3: [46800/50000] Loss: 1.5588059425354004\n",
            "Epoch 3: [47700/50000] Loss: 0.9692407250404358\n",
            "Epoch 3: [48600/50000] Loss: 1.6316068172454834\n",
            "Epoch 3: [49500/50000] Loss: 0.9195502400398254\n",
            "Test result on epoch 3: Avg loss is 1.1988662876158953, Accuracy: 57.39%\n",
            "Accuracy of the network on the test images: 57 %\n"
          ]
        }
      ],
      "source": [
        "# ----------- <Your code> ---------------\n",
        "import torch.nn as nn\n",
        "from torch import optim\n",
        "\n",
        "class Net(nn.Module):\n",
        "    def __init__(self):\n",
        "        super().__init__()\n",
        "        self.conv1 = nn.Conv2d(3, 9, 5)\n",
        "        self.pool = nn.MaxPool2d(2, 2)\n",
        "        self.conv2 = nn.Conv2d(9, 16, 5)\n",
        "        self.fc1 = nn.Linear(16 * 5 * 5, 120)\n",
        "        self.fc2 = nn.Linear(120, 84)\n",
        "        self.fc3 = nn.Linear(84, 10)\n",
        "\n",
        "    def forward(self, x):\n",
        "        x = self.pool(F.relu(self.conv1(x)))\n",
        "        x = self.pool(F.relu(self.conv2(x)))\n",
        "        x = torch.flatten(x, 1) # flatten all dimensions except batch\n",
        "        x = F.relu(self.fc1(x))\n",
        "        x = F.relu(self.fc2(x))\n",
        "        x = self.fc3(x)\n",
        "        return x\n",
        "\n",
        "\n",
        "net = Net()\n",
        "net = net.to(device)\n",
        "\n",
        "loss_func = nn.CrossEntropyLoss()\n",
        "optimizer = optim.SGD(net.parameters(), lr=0.001, momentum=0.9)\n",
        "\n",
        "max_epoch = 3\n",
        "# Train the model\n",
        "total_step = len(train_loader)\n",
        "net.train()\n",
        "for epoch in range(max_epoch):\n",
        "    for i, (images, labels) in enumerate(train_loader):  \n",
        "        # Move tensors to the configured device\n",
        "        images = images.to(device)\n",
        "        labels = labels.to(device)\n",
        "        \n",
        "        # Forward pass\n",
        "        outputs = net(images)\n",
        "        loss = loss_func(outputs, labels)\n",
        "        \n",
        "        # Backprpagation and optimization\n",
        "        optimizer.zero_grad()\n",
        "        loss.backward()\n",
        "        optimizer.step()\n",
        "        \n",
        "        if (i) % 100 == 0:\n",
        "            print(f'Epoch {epoch+1}: [{i*len(images)}/{len(train_loader.dataset)}] Loss: {loss.item()}')\n",
        "\n",
        "# Test the model\n",
        "# In the test phase, don't need to compute gradients (for memory efficiency)\n",
        "misclassified = []\n",
        "\n",
        "net.eval()\n",
        "with torch.no_grad():\n",
        "    correct = 0\n",
        "    test_loss = 0\n",
        "    total = 0\n",
        "    for images, labels in test_loader:\n",
        "        images = images.to(device)\n",
        "        labels = labels.to(device)\n",
        "        outputs = net(images)\n",
        "        test_loss += F.cross_entropy(outputs, labels, reduction='sum').item()\n",
        "        _, predicted = torch.max(outputs.data, 1)\n",
        "\n",
        "        \n",
        "        total += labels.size(0)\n",
        "        correct += (predicted == labels).sum().item()\n",
        "\n",
        "    test_loss /= len(test_loader.dataset)\n",
        "    print(f'Test result on epoch {epoch+1}: Avg loss is {test_loss}, Accuracy: {100.*correct/len(test_loader.dataset)}%')\n",
        "# ----------- <End Your code> ---------------\n",
        "\n",
        "# This prints the accuracy of your model. \n",
        "print_accuracy(net, test_loader)"
      ]
    },
    {
      "cell_type": "markdown",
      "metadata": {
        "id": "hS1mXr9Cl6pM"
      },
      "source": [
        "### Task 3: Plot misclassified test images\n",
        "Plot some misclassified images in your test dataset:\n",
        "\n",
        "*   select three images that are **misclassified** by your neural network\n",
        "*   label each images with true label and predicted label\n",
        "*   use `detach().cpu()` when plotting images if the image is in gpu"
      ]
    },
    {
      "cell_type": "code",
      "source": [
        "data = []\n",
        "count = 0\n",
        "for i, (image, labels) in enumerate(test_loader):\n",
        "  images = images.to(device)\n",
        "  labels = labels.to(device)\n",
        "  pred = net(images.to(device))\n",
        "\n",
        "  _, predicted = torch.max(pred.data, 1)\n",
        "  temp = [(images[x],predicted[x].item(),classes[predicted[x].item()],classes[labels[x].item()],y)for x,y in enumerate((predicted == labels)) if y == False]\n",
        "\n",
        "  for d in temp:\n",
        "    data.append(d)\n",
        "  \n",
        "  if count == 10:\n",
        "    break\n",
        "  count+=1"
      ],
      "metadata": {
        "id": "6DwxG3wyZHql"
      },
      "execution_count": null,
      "outputs": []
    },
    {
      "cell_type": "code",
      "source": [
        "net.eval()\n",
        "with torch.no_grad():\n",
        "    correct = 0\n",
        "    test_loss = 0\n",
        "    total = 0\n",
        "    for images, labels in test_loader:\n",
        "        images = images.to(device)\n",
        "        labels = labels.to(device)\n",
        "        outputs = net(images)\n",
        "        test_loss += F.cross_entropy(outputs, labels, reduction='sum').item()\n",
        "        _, predicted = torch.max(outputs.data, 1)\n",
        "\n",
        "        \n",
        "        total += labels.size(0)\n",
        "        correct += (predicted == labels).sum().item()"
      ],
      "metadata": {
        "id": "c-utl-8ncbhk"
      },
      "execution_count": null,
      "outputs": []
    },
    {
      "cell_type": "code",
      "execution_count": null,
      "metadata": {
        "id": "xd8vWof8nIHw"
      },
      "outputs": [],
      "source": [
        "# ----------- <Your code> ---------------\n",
        "# i, (images, labels) = next(enumerate(test_loader)) # get a batch from test data loader\n",
        "# images = images.to(device)\n",
        "# labels = labels.to(device)\n",
        "# pred = net(images.to(device))\n",
        "\n",
        "# _, predicted = torch.max(pred.data, 1)\n",
        "\n",
        "# data = [(images[x],predicted[x].item(),classes[predicted[x].item()],classes[labels[x].item()],y)for x,y in enumerate((predicted == labels)) if y == False]\n",
        "\n",
        "# Code to display images\n",
        "fig, ax = plt.subplots(3,figsize = (16,16))\n",
        "fig.set_size_inches(16,16)\n",
        "for i in range(3):\n",
        "  image = data[i][0].detach().cpu().permute(1,2,0)\n",
        "  image = image/2 + 0.5\n",
        "  ax[i].imshow(image)\n",
        "  ax[i].set_title(f'TRUE: {data[i][2]}| PRED: {data[i][3]}')\n",
        "fig.show()"
      ]
    },
    {
      "cell_type": "markdown",
      "metadata": {
        "id": "W2ZVJYKtL5yN"
      },
      "source": [
        "Questions (0 points): Are the mis-classified images also misleading to human eyes?"
      ]
    },
    {
      "cell_type": "markdown",
      "metadata": {
        "id": "INN54zXpTcZw"
      },
      "source": [
        "## Exercise 3: Transfer Learning (30 points)"
      ]
    },
    {
      "cell_type": "code",
      "execution_count": null,
      "metadata": {
        "id": "TRqbXg7VaQCZ"
      },
      "outputs": [],
      "source": [
        "import torch\n",
        "import torchvision\n",
        "import torch.nn as nn\n",
        "import torch.nn.functional as F\n",
        "import torchvision.models as models\n",
        "import torch.optim as optim\n",
        "import time\n",
        "\n",
        "import torchvision.transforms as transforms\n",
        "import matplotlib.pyplot as plt"
      ]
    },
    {
      "cell_type": "markdown",
      "metadata": {
        "id": "IgDHswfp0k7m"
      },
      "source": [
        "In practice, people won't train an entire CNN from scratch, because it is relatively rare to have a dataset of sufficient size (or sufficient computational power). Instead, it is common to pretrain a CNN on a very large dataset and then use the CNN either as an initialization or a fixed feature extractor for the task of interest.\n",
        "\n",
        "In this task, you will learn how to use a pretrained CNN for CIFAR-10 classification."
      ]
    },
    {
      "cell_type": "markdown",
      "metadata": {
        "id": "f21CjwoW8ty5"
      },
      "source": [
        "### Task1: Load pretrained model"
      ]
    },
    {
      "cell_type": "markdown",
      "metadata": {
        "id": "VZ-21Pv183TX"
      },
      "source": [
        "`torchvision.models` (https://pytorch.org/vision/stable/models.html) contains definitions of models for addressing different tasks, including: image classification, pixelwise semantic segmentation, object detection, instance segmentation, person keypoint detection and video classification.\n",
        "\n",
        "First, you should load the **pretrained** ResNet-18 that has already been trained on [ImageNet](https://www.image-net.org/) using `torchvision.models`. If you are interested in more details about Resnet-18, read this paper https://arxiv.org/pdf/1512.03385.pdf."
      ]
    },
    {
      "cell_type": "code",
      "execution_count": null,
      "metadata": {
        "id": "KaHP0VfAVuDY"
      },
      "outputs": [],
      "source": [
        "resnet18 = models.resnet18(pretrained=True)"
      ]
    },
    {
      "cell_type": "markdown",
      "metadata": {
        "id": "MtQkZUZH84q8"
      },
      "source": [
        "### Task2: Create data loaders for CIFAR-10"
      ]
    },
    {
      "cell_type": "markdown",
      "metadata": {
        "id": "GTlRo-CJ4GQD"
      },
      "source": [
        "Then you need to create a modified dataset and dataloader for CIFAR-10. Importantly, the model you load has been trained on **ImageNet** and it expects inputs as mini-batches of 3-channel RGB images of shape (3 x H x W), where H and W are expected to be **at least** 224. So you need to preprocess the CIFAR-10 data to make sure it has a height and width of 224. Thus, you should add a transform when loading the CIFAR10 dataset (see [`torchvision.transforms.Resize`](https://pytorch.org/vision/stable/transforms.html#torchvision.transforms.Resize)).\n",
        "This should be added appropriately to the `transform` you created in a previous task."
      ]
    },
    {
      "cell_type": "code",
      "execution_count": null,
      "metadata": {
        "id": "lhFys7OQV1Wj"
      },
      "outputs": [],
      "source": [
        "# ----------- <Your code> ---------------\n",
        "batch_size = 9\n",
        "classes = ('plane', 'car', 'bird', 'cat', 'deer', 'dog', 'frog', 'horse', 'ship', 'truck')\n",
        "\n",
        "transform = transforms.Compose([transforms.ToTensor(),\n",
        "     transforms.Resize((224,224)),\n",
        "     transforms.Normalize((0.5, 0.5, 0.5), (0.5, 0.5, 0.5))])\n",
        "\n",
        "trainset = torchvision.datasets.CIFAR10(root='./data', train=True,\n",
        "                                        download=True, transform=transform)\n",
        "\n",
        "\n",
        "testset = torchvision.datasets.CIFAR10(root='./data', train=False,\n",
        "                                       download=True, transform=transform)\n",
        "\n",
        "# Define train_loader and test_loader\n",
        "train_loader = torch.utils.data.DataLoader(trainset, batch_size=batch_size,\n",
        "                                          shuffle=True, num_workers=2)\n",
        "\n",
        "test_loader = torch.utils.data.DataLoader(testset, batch_size=batch_size,\n",
        "                                         shuffle=False, num_workers=2)\n",
        "\n",
        "# Code to display images\n",
        "batch_idx, (images, targets) = next(enumerate(train_loader))\n",
        "fig, ax = plt.subplots(3,3,figsize = (16,16))\n",
        "fig.set_size_inches(16,16)\n",
        "for i in range(3):\n",
        "  for j in range(3):\n",
        "    image = images[i*3+j].permute(1,2,0)\n",
        "    image = image/2 + 0.5\n",
        "    ax[i,j].imshow(image)\n",
        "    ax[i,j].set_title(f'{classes[targets[i*3+j]]}')\n",
        "fig.show()"
      ]
    },
    {
      "cell_type": "markdown",
      "metadata": {
        "id": "k8nR_aBi9Atb"
      },
      "source": [
        "### Task3: Classify test data on pretrained model"
      ]
    },
    {
      "cell_type": "markdown",
      "metadata": {
        "id": "N8IXXu-J9grR"
      },
      "source": [
        "Use the model you load to classify the **test** CIFAR-10 data and print out the test accuracy.\n",
        "\n",
        "Don't be surprised if the accuracy is bad!"
      ]
    },
    {
      "cell_type": "code",
      "execution_count": null,
      "metadata": {
        "id": "JOuCodyJ4FYp"
      },
      "outputs": [],
      "source": [
        "# ----------- <Your code> ---------------\n",
        "# This prints the accuracy of your model. \n",
        "print_accuracy(resnet18, test_loader)\n",
        "# ----------- <End Your code> ---------------\n",
        "\n"
      ]
    },
    {
      "cell_type": "markdown",
      "metadata": {
        "id": "ETLezHR0-ByE"
      },
      "source": [
        "### Task 4: Fine-tune (i.e., update) the pretrained model for CIFAR-10"
      ]
    },
    {
      "cell_type": "markdown",
      "metadata": {
        "id": "BbQrsL-U-Faq"
      },
      "source": [
        "Now try to improve the test accuracy. We offer several possible solutions:\n",
        "\n",
        "(1) You can try to directly continue to train the model you load with the CIFAR-10 training data. \n",
        "\n",
        "(2) For efficiency, you can try to freeze part of the parameters of the loaded models. For example, you can first freeze all parameters by\n",
        "\n",
        "```\n",
        "for param in model.parameters():\n",
        "    param.requires_grad = False\n",
        "```\n",
        "and then unfreeze the last few layers by setting `somelayer.requires_grad=True`.\n",
        "\n",
        "You are also welcome to try any other approach you can think of.\n",
        "\n",
        "\n",
        "**Note:** You must print out the test accuracy and to get full credits, the test accuracy should be at least **80%**."
      ]
    },
    {
      "cell_type": "code",
      "execution_count": null,
      "metadata": {
        "id": "D2H2oDDyWv8t"
      },
      "outputs": [],
      "source": [
        "# ----------- <Your code> ---------------\n",
        "resnet18 = resnet18.to(device)\n",
        "\n",
        "loss_func = nn.CrossEntropyLoss()\n",
        "optimizer = torch.optim.SGD(resnet18.parameters(), lr=0.001, momentum=0.9)\n",
        "\n",
        "max_epoch = 3\n",
        "# Train the model\n",
        "total_step = len(train_loader)\n",
        "resnet18.train()\n",
        "for epoch in range(max_epoch):\n",
        "    for i, (images, labels) in enumerate(train_loader):  \n",
        "        # Move tensors to the configured device\n",
        "        images = images.to(device)\n",
        "        labels = labels.to(device)\n",
        "        \n",
        "        # Forward pass\n",
        "        outputs = resnet18(images)\n",
        "        loss = loss_func(outputs, labels)\n",
        "        \n",
        "        # Backprpagation and optimization\n",
        "        optimizer.zero_grad()\n",
        "        loss.backward()\n",
        "        optimizer.step()\n",
        "        \n",
        "        if (i) % 100 == 0:\n",
        "            print(f'Epoch {epoch+1}: [{i*len(images)}/{len(train_loader.dataset)}] Loss: {loss.item()}')\n",
        "# ----------- <End Your code> ---------------\n",
        "  \n",
        "print_accuracy(resnet18, test_loader)"
      ]
    }
  ],
  "metadata": {
    "accelerator": "GPU",
    "colab": {
      "collapsed_sections": [],
      "provenance": [],
      "include_colab_link": true
    },
    "kernelspec": {
      "display_name": "Python 3",
      "language": "python",
      "name": "python3"
    },
    "language_info": {
      "codemirror_mode": {
        "name": "ipython",
        "version": 3
      },
      "file_extension": ".py",
      "mimetype": "text/x-python",
      "name": "python",
      "nbconvert_exporter": "python",
      "pygments_lexer": "ipython3",
      "version": "3.8.8"
    },
    "widgets": {
      "application/vnd.jupyter.widget-state+json": {
        "25a3a9d0340e4f46909f01dce725f56c": {
          "model_module": "@jupyter-widgets/controls",
          "model_name": "HBoxModel",
          "model_module_version": "1.5.0",
          "state": {
            "_dom_classes": [],
            "_model_module": "@jupyter-widgets/controls",
            "_model_module_version": "1.5.0",
            "_model_name": "HBoxModel",
            "_view_count": null,
            "_view_module": "@jupyter-widgets/controls",
            "_view_module_version": "1.5.0",
            "_view_name": "HBoxView",
            "box_style": "",
            "children": [
              "IPY_MODEL_0fb6a2570f35418694421bb54a54c3c6",
              "IPY_MODEL_e811a0707201447aac5a1f7d18eb1100",
              "IPY_MODEL_24f34e6d967a40129b7c82d8b3b99322"
            ],
            "layout": "IPY_MODEL_d6f0e859470044a9b51fb357ed866339"
          }
        },
        "0fb6a2570f35418694421bb54a54c3c6": {
          "model_module": "@jupyter-widgets/controls",
          "model_name": "HTMLModel",
          "model_module_version": "1.5.0",
          "state": {
            "_dom_classes": [],
            "_model_module": "@jupyter-widgets/controls",
            "_model_module_version": "1.5.0",
            "_model_name": "HTMLModel",
            "_view_count": null,
            "_view_module": "@jupyter-widgets/controls",
            "_view_module_version": "1.5.0",
            "_view_name": "HTMLView",
            "description": "",
            "description_tooltip": null,
            "layout": "IPY_MODEL_3ab7f0e3558f4926a14a3658e04b2d3f",
            "placeholder": "​",
            "style": "IPY_MODEL_168419779dd14635aed72d6ba514b21f",
            "value": "100%"
          }
        },
        "e811a0707201447aac5a1f7d18eb1100": {
          "model_module": "@jupyter-widgets/controls",
          "model_name": "FloatProgressModel",
          "model_module_version": "1.5.0",
          "state": {
            "_dom_classes": [],
            "_model_module": "@jupyter-widgets/controls",
            "_model_module_version": "1.5.0",
            "_model_name": "FloatProgressModel",
            "_view_count": null,
            "_view_module": "@jupyter-widgets/controls",
            "_view_module_version": "1.5.0",
            "_view_name": "ProgressView",
            "bar_style": "success",
            "description": "",
            "description_tooltip": null,
            "layout": "IPY_MODEL_b55a2e4556fd45a9b1a4624583618c06",
            "max": 9912422,
            "min": 0,
            "orientation": "horizontal",
            "style": "IPY_MODEL_14473a6dc69140aaaa51b2a03562cbf4",
            "value": 9912422
          }
        },
        "24f34e6d967a40129b7c82d8b3b99322": {
          "model_module": "@jupyter-widgets/controls",
          "model_name": "HTMLModel",
          "model_module_version": "1.5.0",
          "state": {
            "_dom_classes": [],
            "_model_module": "@jupyter-widgets/controls",
            "_model_module_version": "1.5.0",
            "_model_name": "HTMLModel",
            "_view_count": null,
            "_view_module": "@jupyter-widgets/controls",
            "_view_module_version": "1.5.0",
            "_view_name": "HTMLView",
            "description": "",
            "description_tooltip": null,
            "layout": "IPY_MODEL_dda62f7bc338403e954fa135fc97ad23",
            "placeholder": "​",
            "style": "IPY_MODEL_794eecfa10b148bfa53f52ec3cfcff6e",
            "value": " 9912422/9912422 [00:00&lt;00:00, 146397473.32it/s]"
          }
        },
        "d6f0e859470044a9b51fb357ed866339": {
          "model_module": "@jupyter-widgets/base",
          "model_name": "LayoutModel",
          "model_module_version": "1.2.0",
          "state": {
            "_model_module": "@jupyter-widgets/base",
            "_model_module_version": "1.2.0",
            "_model_name": "LayoutModel",
            "_view_count": null,
            "_view_module": "@jupyter-widgets/base",
            "_view_module_version": "1.2.0",
            "_view_name": "LayoutView",
            "align_content": null,
            "align_items": null,
            "align_self": null,
            "border": null,
            "bottom": null,
            "display": null,
            "flex": null,
            "flex_flow": null,
            "grid_area": null,
            "grid_auto_columns": null,
            "grid_auto_flow": null,
            "grid_auto_rows": null,
            "grid_column": null,
            "grid_gap": null,
            "grid_row": null,
            "grid_template_areas": null,
            "grid_template_columns": null,
            "grid_template_rows": null,
            "height": null,
            "justify_content": null,
            "justify_items": null,
            "left": null,
            "margin": null,
            "max_height": null,
            "max_width": null,
            "min_height": null,
            "min_width": null,
            "object_fit": null,
            "object_position": null,
            "order": null,
            "overflow": null,
            "overflow_x": null,
            "overflow_y": null,
            "padding": null,
            "right": null,
            "top": null,
            "visibility": null,
            "width": null
          }
        },
        "3ab7f0e3558f4926a14a3658e04b2d3f": {
          "model_module": "@jupyter-widgets/base",
          "model_name": "LayoutModel",
          "model_module_version": "1.2.0",
          "state": {
            "_model_module": "@jupyter-widgets/base",
            "_model_module_version": "1.2.0",
            "_model_name": "LayoutModel",
            "_view_count": null,
            "_view_module": "@jupyter-widgets/base",
            "_view_module_version": "1.2.0",
            "_view_name": "LayoutView",
            "align_content": null,
            "align_items": null,
            "align_self": null,
            "border": null,
            "bottom": null,
            "display": null,
            "flex": null,
            "flex_flow": null,
            "grid_area": null,
            "grid_auto_columns": null,
            "grid_auto_flow": null,
            "grid_auto_rows": null,
            "grid_column": null,
            "grid_gap": null,
            "grid_row": null,
            "grid_template_areas": null,
            "grid_template_columns": null,
            "grid_template_rows": null,
            "height": null,
            "justify_content": null,
            "justify_items": null,
            "left": null,
            "margin": null,
            "max_height": null,
            "max_width": null,
            "min_height": null,
            "min_width": null,
            "object_fit": null,
            "object_position": null,
            "order": null,
            "overflow": null,
            "overflow_x": null,
            "overflow_y": null,
            "padding": null,
            "right": null,
            "top": null,
            "visibility": null,
            "width": null
          }
        },
        "168419779dd14635aed72d6ba514b21f": {
          "model_module": "@jupyter-widgets/controls",
          "model_name": "DescriptionStyleModel",
          "model_module_version": "1.5.0",
          "state": {
            "_model_module": "@jupyter-widgets/controls",
            "_model_module_version": "1.5.0",
            "_model_name": "DescriptionStyleModel",
            "_view_count": null,
            "_view_module": "@jupyter-widgets/base",
            "_view_module_version": "1.2.0",
            "_view_name": "StyleView",
            "description_width": ""
          }
        },
        "b55a2e4556fd45a9b1a4624583618c06": {
          "model_module": "@jupyter-widgets/base",
          "model_name": "LayoutModel",
          "model_module_version": "1.2.0",
          "state": {
            "_model_module": "@jupyter-widgets/base",
            "_model_module_version": "1.2.0",
            "_model_name": "LayoutModel",
            "_view_count": null,
            "_view_module": "@jupyter-widgets/base",
            "_view_module_version": "1.2.0",
            "_view_name": "LayoutView",
            "align_content": null,
            "align_items": null,
            "align_self": null,
            "border": null,
            "bottom": null,
            "display": null,
            "flex": null,
            "flex_flow": null,
            "grid_area": null,
            "grid_auto_columns": null,
            "grid_auto_flow": null,
            "grid_auto_rows": null,
            "grid_column": null,
            "grid_gap": null,
            "grid_row": null,
            "grid_template_areas": null,
            "grid_template_columns": null,
            "grid_template_rows": null,
            "height": null,
            "justify_content": null,
            "justify_items": null,
            "left": null,
            "margin": null,
            "max_height": null,
            "max_width": null,
            "min_height": null,
            "min_width": null,
            "object_fit": null,
            "object_position": null,
            "order": null,
            "overflow": null,
            "overflow_x": null,
            "overflow_y": null,
            "padding": null,
            "right": null,
            "top": null,
            "visibility": null,
            "width": null
          }
        },
        "14473a6dc69140aaaa51b2a03562cbf4": {
          "model_module": "@jupyter-widgets/controls",
          "model_name": "ProgressStyleModel",
          "model_module_version": "1.5.0",
          "state": {
            "_model_module": "@jupyter-widgets/controls",
            "_model_module_version": "1.5.0",
            "_model_name": "ProgressStyleModel",
            "_view_count": null,
            "_view_module": "@jupyter-widgets/base",
            "_view_module_version": "1.2.0",
            "_view_name": "StyleView",
            "bar_color": null,
            "description_width": ""
          }
        },
        "dda62f7bc338403e954fa135fc97ad23": {
          "model_module": "@jupyter-widgets/base",
          "model_name": "LayoutModel",
          "model_module_version": "1.2.0",
          "state": {
            "_model_module": "@jupyter-widgets/base",
            "_model_module_version": "1.2.0",
            "_model_name": "LayoutModel",
            "_view_count": null,
            "_view_module": "@jupyter-widgets/base",
            "_view_module_version": "1.2.0",
            "_view_name": "LayoutView",
            "align_content": null,
            "align_items": null,
            "align_self": null,
            "border": null,
            "bottom": null,
            "display": null,
            "flex": null,
            "flex_flow": null,
            "grid_area": null,
            "grid_auto_columns": null,
            "grid_auto_flow": null,
            "grid_auto_rows": null,
            "grid_column": null,
            "grid_gap": null,
            "grid_row": null,
            "grid_template_areas": null,
            "grid_template_columns": null,
            "grid_template_rows": null,
            "height": null,
            "justify_content": null,
            "justify_items": null,
            "left": null,
            "margin": null,
            "max_height": null,
            "max_width": null,
            "min_height": null,
            "min_width": null,
            "object_fit": null,
            "object_position": null,
            "order": null,
            "overflow": null,
            "overflow_x": null,
            "overflow_y": null,
            "padding": null,
            "right": null,
            "top": null,
            "visibility": null,
            "width": null
          }
        },
        "794eecfa10b148bfa53f52ec3cfcff6e": {
          "model_module": "@jupyter-widgets/controls",
          "model_name": "DescriptionStyleModel",
          "model_module_version": "1.5.0",
          "state": {
            "_model_module": "@jupyter-widgets/controls",
            "_model_module_version": "1.5.0",
            "_model_name": "DescriptionStyleModel",
            "_view_count": null,
            "_view_module": "@jupyter-widgets/base",
            "_view_module_version": "1.2.0",
            "_view_name": "StyleView",
            "description_width": ""
          }
        },
        "16f876a45e72424e884222d1d25bd578": {
          "model_module": "@jupyter-widgets/controls",
          "model_name": "HBoxModel",
          "model_module_version": "1.5.0",
          "state": {
            "_dom_classes": [],
            "_model_module": "@jupyter-widgets/controls",
            "_model_module_version": "1.5.0",
            "_model_name": "HBoxModel",
            "_view_count": null,
            "_view_module": "@jupyter-widgets/controls",
            "_view_module_version": "1.5.0",
            "_view_name": "HBoxView",
            "box_style": "",
            "children": [
              "IPY_MODEL_12c7fd674e6840e0abda6e01d6eab602",
              "IPY_MODEL_0a2d01d6c6ec4db9b92ae6edc70071d7",
              "IPY_MODEL_a5e80e58c65a4084a3746af3971bcb14"
            ],
            "layout": "IPY_MODEL_22bc17920b714150bed34fdcf6369ae9"
          }
        },
        "12c7fd674e6840e0abda6e01d6eab602": {
          "model_module": "@jupyter-widgets/controls",
          "model_name": "HTMLModel",
          "model_module_version": "1.5.0",
          "state": {
            "_dom_classes": [],
            "_model_module": "@jupyter-widgets/controls",
            "_model_module_version": "1.5.0",
            "_model_name": "HTMLModel",
            "_view_count": null,
            "_view_module": "@jupyter-widgets/controls",
            "_view_module_version": "1.5.0",
            "_view_name": "HTMLView",
            "description": "",
            "description_tooltip": null,
            "layout": "IPY_MODEL_9393776611834447b03ce47d701701b4",
            "placeholder": "​",
            "style": "IPY_MODEL_defb50c63b3a45dc9f57c6c488508836",
            "value": "100%"
          }
        },
        "0a2d01d6c6ec4db9b92ae6edc70071d7": {
          "model_module": "@jupyter-widgets/controls",
          "model_name": "FloatProgressModel",
          "model_module_version": "1.5.0",
          "state": {
            "_dom_classes": [],
            "_model_module": "@jupyter-widgets/controls",
            "_model_module_version": "1.5.0",
            "_model_name": "FloatProgressModel",
            "_view_count": null,
            "_view_module": "@jupyter-widgets/controls",
            "_view_module_version": "1.5.0",
            "_view_name": "ProgressView",
            "bar_style": "success",
            "description": "",
            "description_tooltip": null,
            "layout": "IPY_MODEL_4040c38035b5454995d46ee084e96707",
            "max": 28881,
            "min": 0,
            "orientation": "horizontal",
            "style": "IPY_MODEL_0770f752f3f5474e835a4a7a1e8bea62",
            "value": 28881
          }
        },
        "a5e80e58c65a4084a3746af3971bcb14": {
          "model_module": "@jupyter-widgets/controls",
          "model_name": "HTMLModel",
          "model_module_version": "1.5.0",
          "state": {
            "_dom_classes": [],
            "_model_module": "@jupyter-widgets/controls",
            "_model_module_version": "1.5.0",
            "_model_name": "HTMLModel",
            "_view_count": null,
            "_view_module": "@jupyter-widgets/controls",
            "_view_module_version": "1.5.0",
            "_view_name": "HTMLView",
            "description": "",
            "description_tooltip": null,
            "layout": "IPY_MODEL_0620b37d4d0b459794d6127bddf5710e",
            "placeholder": "​",
            "style": "IPY_MODEL_2267fce3ed0f4e5d910a5e9e4ff3884d",
            "value": " 28881/28881 [00:00&lt;00:00, 859496.33it/s]"
          }
        },
        "22bc17920b714150bed34fdcf6369ae9": {
          "model_module": "@jupyter-widgets/base",
          "model_name": "LayoutModel",
          "model_module_version": "1.2.0",
          "state": {
            "_model_module": "@jupyter-widgets/base",
            "_model_module_version": "1.2.0",
            "_model_name": "LayoutModel",
            "_view_count": null,
            "_view_module": "@jupyter-widgets/base",
            "_view_module_version": "1.2.0",
            "_view_name": "LayoutView",
            "align_content": null,
            "align_items": null,
            "align_self": null,
            "border": null,
            "bottom": null,
            "display": null,
            "flex": null,
            "flex_flow": null,
            "grid_area": null,
            "grid_auto_columns": null,
            "grid_auto_flow": null,
            "grid_auto_rows": null,
            "grid_column": null,
            "grid_gap": null,
            "grid_row": null,
            "grid_template_areas": null,
            "grid_template_columns": null,
            "grid_template_rows": null,
            "height": null,
            "justify_content": null,
            "justify_items": null,
            "left": null,
            "margin": null,
            "max_height": null,
            "max_width": null,
            "min_height": null,
            "min_width": null,
            "object_fit": null,
            "object_position": null,
            "order": null,
            "overflow": null,
            "overflow_x": null,
            "overflow_y": null,
            "padding": null,
            "right": null,
            "top": null,
            "visibility": null,
            "width": null
          }
        },
        "9393776611834447b03ce47d701701b4": {
          "model_module": "@jupyter-widgets/base",
          "model_name": "LayoutModel",
          "model_module_version": "1.2.0",
          "state": {
            "_model_module": "@jupyter-widgets/base",
            "_model_module_version": "1.2.0",
            "_model_name": "LayoutModel",
            "_view_count": null,
            "_view_module": "@jupyter-widgets/base",
            "_view_module_version": "1.2.0",
            "_view_name": "LayoutView",
            "align_content": null,
            "align_items": null,
            "align_self": null,
            "border": null,
            "bottom": null,
            "display": null,
            "flex": null,
            "flex_flow": null,
            "grid_area": null,
            "grid_auto_columns": null,
            "grid_auto_flow": null,
            "grid_auto_rows": null,
            "grid_column": null,
            "grid_gap": null,
            "grid_row": null,
            "grid_template_areas": null,
            "grid_template_columns": null,
            "grid_template_rows": null,
            "height": null,
            "justify_content": null,
            "justify_items": null,
            "left": null,
            "margin": null,
            "max_height": null,
            "max_width": null,
            "min_height": null,
            "min_width": null,
            "object_fit": null,
            "object_position": null,
            "order": null,
            "overflow": null,
            "overflow_x": null,
            "overflow_y": null,
            "padding": null,
            "right": null,
            "top": null,
            "visibility": null,
            "width": null
          }
        },
        "defb50c63b3a45dc9f57c6c488508836": {
          "model_module": "@jupyter-widgets/controls",
          "model_name": "DescriptionStyleModel",
          "model_module_version": "1.5.0",
          "state": {
            "_model_module": "@jupyter-widgets/controls",
            "_model_module_version": "1.5.0",
            "_model_name": "DescriptionStyleModel",
            "_view_count": null,
            "_view_module": "@jupyter-widgets/base",
            "_view_module_version": "1.2.0",
            "_view_name": "StyleView",
            "description_width": ""
          }
        },
        "4040c38035b5454995d46ee084e96707": {
          "model_module": "@jupyter-widgets/base",
          "model_name": "LayoutModel",
          "model_module_version": "1.2.0",
          "state": {
            "_model_module": "@jupyter-widgets/base",
            "_model_module_version": "1.2.0",
            "_model_name": "LayoutModel",
            "_view_count": null,
            "_view_module": "@jupyter-widgets/base",
            "_view_module_version": "1.2.0",
            "_view_name": "LayoutView",
            "align_content": null,
            "align_items": null,
            "align_self": null,
            "border": null,
            "bottom": null,
            "display": null,
            "flex": null,
            "flex_flow": null,
            "grid_area": null,
            "grid_auto_columns": null,
            "grid_auto_flow": null,
            "grid_auto_rows": null,
            "grid_column": null,
            "grid_gap": null,
            "grid_row": null,
            "grid_template_areas": null,
            "grid_template_columns": null,
            "grid_template_rows": null,
            "height": null,
            "justify_content": null,
            "justify_items": null,
            "left": null,
            "margin": null,
            "max_height": null,
            "max_width": null,
            "min_height": null,
            "min_width": null,
            "object_fit": null,
            "object_position": null,
            "order": null,
            "overflow": null,
            "overflow_x": null,
            "overflow_y": null,
            "padding": null,
            "right": null,
            "top": null,
            "visibility": null,
            "width": null
          }
        },
        "0770f752f3f5474e835a4a7a1e8bea62": {
          "model_module": "@jupyter-widgets/controls",
          "model_name": "ProgressStyleModel",
          "model_module_version": "1.5.0",
          "state": {
            "_model_module": "@jupyter-widgets/controls",
            "_model_module_version": "1.5.0",
            "_model_name": "ProgressStyleModel",
            "_view_count": null,
            "_view_module": "@jupyter-widgets/base",
            "_view_module_version": "1.2.0",
            "_view_name": "StyleView",
            "bar_color": null,
            "description_width": ""
          }
        },
        "0620b37d4d0b459794d6127bddf5710e": {
          "model_module": "@jupyter-widgets/base",
          "model_name": "LayoutModel",
          "model_module_version": "1.2.0",
          "state": {
            "_model_module": "@jupyter-widgets/base",
            "_model_module_version": "1.2.0",
            "_model_name": "LayoutModel",
            "_view_count": null,
            "_view_module": "@jupyter-widgets/base",
            "_view_module_version": "1.2.0",
            "_view_name": "LayoutView",
            "align_content": null,
            "align_items": null,
            "align_self": null,
            "border": null,
            "bottom": null,
            "display": null,
            "flex": null,
            "flex_flow": null,
            "grid_area": null,
            "grid_auto_columns": null,
            "grid_auto_flow": null,
            "grid_auto_rows": null,
            "grid_column": null,
            "grid_gap": null,
            "grid_row": null,
            "grid_template_areas": null,
            "grid_template_columns": null,
            "grid_template_rows": null,
            "height": null,
            "justify_content": null,
            "justify_items": null,
            "left": null,
            "margin": null,
            "max_height": null,
            "max_width": null,
            "min_height": null,
            "min_width": null,
            "object_fit": null,
            "object_position": null,
            "order": null,
            "overflow": null,
            "overflow_x": null,
            "overflow_y": null,
            "padding": null,
            "right": null,
            "top": null,
            "visibility": null,
            "width": null
          }
        },
        "2267fce3ed0f4e5d910a5e9e4ff3884d": {
          "model_module": "@jupyter-widgets/controls",
          "model_name": "DescriptionStyleModel",
          "model_module_version": "1.5.0",
          "state": {
            "_model_module": "@jupyter-widgets/controls",
            "_model_module_version": "1.5.0",
            "_model_name": "DescriptionStyleModel",
            "_view_count": null,
            "_view_module": "@jupyter-widgets/base",
            "_view_module_version": "1.2.0",
            "_view_name": "StyleView",
            "description_width": ""
          }
        },
        "632d258037bf4db9ab5f9cc8670e9037": {
          "model_module": "@jupyter-widgets/controls",
          "model_name": "HBoxModel",
          "model_module_version": "1.5.0",
          "state": {
            "_dom_classes": [],
            "_model_module": "@jupyter-widgets/controls",
            "_model_module_version": "1.5.0",
            "_model_name": "HBoxModel",
            "_view_count": null,
            "_view_module": "@jupyter-widgets/controls",
            "_view_module_version": "1.5.0",
            "_view_name": "HBoxView",
            "box_style": "",
            "children": [
              "IPY_MODEL_e8147662e95a49bd96b7ecd0e20e907a",
              "IPY_MODEL_1fef8e773d8d498fb031e119c5feb0d1",
              "IPY_MODEL_2a8f18a73f5441fc8ed43f1eadb5c15e"
            ],
            "layout": "IPY_MODEL_d33e45593a164aea87e983509f136068"
          }
        },
        "e8147662e95a49bd96b7ecd0e20e907a": {
          "model_module": "@jupyter-widgets/controls",
          "model_name": "HTMLModel",
          "model_module_version": "1.5.0",
          "state": {
            "_dom_classes": [],
            "_model_module": "@jupyter-widgets/controls",
            "_model_module_version": "1.5.0",
            "_model_name": "HTMLModel",
            "_view_count": null,
            "_view_module": "@jupyter-widgets/controls",
            "_view_module_version": "1.5.0",
            "_view_name": "HTMLView",
            "description": "",
            "description_tooltip": null,
            "layout": "IPY_MODEL_8404444b1347492291e80eef37ed1c01",
            "placeholder": "​",
            "style": "IPY_MODEL_87edfd74d4a54ca7a249ef0ae6ecf214",
            "value": "100%"
          }
        },
        "1fef8e773d8d498fb031e119c5feb0d1": {
          "model_module": "@jupyter-widgets/controls",
          "model_name": "FloatProgressModel",
          "model_module_version": "1.5.0",
          "state": {
            "_dom_classes": [],
            "_model_module": "@jupyter-widgets/controls",
            "_model_module_version": "1.5.0",
            "_model_name": "FloatProgressModel",
            "_view_count": null,
            "_view_module": "@jupyter-widgets/controls",
            "_view_module_version": "1.5.0",
            "_view_name": "ProgressView",
            "bar_style": "success",
            "description": "",
            "description_tooltip": null,
            "layout": "IPY_MODEL_c346264ec26b4840950d7f22b0bced45",
            "max": 1648877,
            "min": 0,
            "orientation": "horizontal",
            "style": "IPY_MODEL_f00ef52a381e42e4858c98f5c3a88ed6",
            "value": 1648877
          }
        },
        "2a8f18a73f5441fc8ed43f1eadb5c15e": {
          "model_module": "@jupyter-widgets/controls",
          "model_name": "HTMLModel",
          "model_module_version": "1.5.0",
          "state": {
            "_dom_classes": [],
            "_model_module": "@jupyter-widgets/controls",
            "_model_module_version": "1.5.0",
            "_model_name": "HTMLModel",
            "_view_count": null,
            "_view_module": "@jupyter-widgets/controls",
            "_view_module_version": "1.5.0",
            "_view_name": "HTMLView",
            "description": "",
            "description_tooltip": null,
            "layout": "IPY_MODEL_e011c6199d8848349297dcfe4be3b896",
            "placeholder": "​",
            "style": "IPY_MODEL_c4b4daa911c34a85824258782d562ad3",
            "value": " 1648877/1648877 [00:00&lt;00:00, 41787105.95it/s]"
          }
        },
        "d33e45593a164aea87e983509f136068": {
          "model_module": "@jupyter-widgets/base",
          "model_name": "LayoutModel",
          "model_module_version": "1.2.0",
          "state": {
            "_model_module": "@jupyter-widgets/base",
            "_model_module_version": "1.2.0",
            "_model_name": "LayoutModel",
            "_view_count": null,
            "_view_module": "@jupyter-widgets/base",
            "_view_module_version": "1.2.0",
            "_view_name": "LayoutView",
            "align_content": null,
            "align_items": null,
            "align_self": null,
            "border": null,
            "bottom": null,
            "display": null,
            "flex": null,
            "flex_flow": null,
            "grid_area": null,
            "grid_auto_columns": null,
            "grid_auto_flow": null,
            "grid_auto_rows": null,
            "grid_column": null,
            "grid_gap": null,
            "grid_row": null,
            "grid_template_areas": null,
            "grid_template_columns": null,
            "grid_template_rows": null,
            "height": null,
            "justify_content": null,
            "justify_items": null,
            "left": null,
            "margin": null,
            "max_height": null,
            "max_width": null,
            "min_height": null,
            "min_width": null,
            "object_fit": null,
            "object_position": null,
            "order": null,
            "overflow": null,
            "overflow_x": null,
            "overflow_y": null,
            "padding": null,
            "right": null,
            "top": null,
            "visibility": null,
            "width": null
          }
        },
        "8404444b1347492291e80eef37ed1c01": {
          "model_module": "@jupyter-widgets/base",
          "model_name": "LayoutModel",
          "model_module_version": "1.2.0",
          "state": {
            "_model_module": "@jupyter-widgets/base",
            "_model_module_version": "1.2.0",
            "_model_name": "LayoutModel",
            "_view_count": null,
            "_view_module": "@jupyter-widgets/base",
            "_view_module_version": "1.2.0",
            "_view_name": "LayoutView",
            "align_content": null,
            "align_items": null,
            "align_self": null,
            "border": null,
            "bottom": null,
            "display": null,
            "flex": null,
            "flex_flow": null,
            "grid_area": null,
            "grid_auto_columns": null,
            "grid_auto_flow": null,
            "grid_auto_rows": null,
            "grid_column": null,
            "grid_gap": null,
            "grid_row": null,
            "grid_template_areas": null,
            "grid_template_columns": null,
            "grid_template_rows": null,
            "height": null,
            "justify_content": null,
            "justify_items": null,
            "left": null,
            "margin": null,
            "max_height": null,
            "max_width": null,
            "min_height": null,
            "min_width": null,
            "object_fit": null,
            "object_position": null,
            "order": null,
            "overflow": null,
            "overflow_x": null,
            "overflow_y": null,
            "padding": null,
            "right": null,
            "top": null,
            "visibility": null,
            "width": null
          }
        },
        "87edfd74d4a54ca7a249ef0ae6ecf214": {
          "model_module": "@jupyter-widgets/controls",
          "model_name": "DescriptionStyleModel",
          "model_module_version": "1.5.0",
          "state": {
            "_model_module": "@jupyter-widgets/controls",
            "_model_module_version": "1.5.0",
            "_model_name": "DescriptionStyleModel",
            "_view_count": null,
            "_view_module": "@jupyter-widgets/base",
            "_view_module_version": "1.2.0",
            "_view_name": "StyleView",
            "description_width": ""
          }
        },
        "c346264ec26b4840950d7f22b0bced45": {
          "model_module": "@jupyter-widgets/base",
          "model_name": "LayoutModel",
          "model_module_version": "1.2.0",
          "state": {
            "_model_module": "@jupyter-widgets/base",
            "_model_module_version": "1.2.0",
            "_model_name": "LayoutModel",
            "_view_count": null,
            "_view_module": "@jupyter-widgets/base",
            "_view_module_version": "1.2.0",
            "_view_name": "LayoutView",
            "align_content": null,
            "align_items": null,
            "align_self": null,
            "border": null,
            "bottom": null,
            "display": null,
            "flex": null,
            "flex_flow": null,
            "grid_area": null,
            "grid_auto_columns": null,
            "grid_auto_flow": null,
            "grid_auto_rows": null,
            "grid_column": null,
            "grid_gap": null,
            "grid_row": null,
            "grid_template_areas": null,
            "grid_template_columns": null,
            "grid_template_rows": null,
            "height": null,
            "justify_content": null,
            "justify_items": null,
            "left": null,
            "margin": null,
            "max_height": null,
            "max_width": null,
            "min_height": null,
            "min_width": null,
            "object_fit": null,
            "object_position": null,
            "order": null,
            "overflow": null,
            "overflow_x": null,
            "overflow_y": null,
            "padding": null,
            "right": null,
            "top": null,
            "visibility": null,
            "width": null
          }
        },
        "f00ef52a381e42e4858c98f5c3a88ed6": {
          "model_module": "@jupyter-widgets/controls",
          "model_name": "ProgressStyleModel",
          "model_module_version": "1.5.0",
          "state": {
            "_model_module": "@jupyter-widgets/controls",
            "_model_module_version": "1.5.0",
            "_model_name": "ProgressStyleModel",
            "_view_count": null,
            "_view_module": "@jupyter-widgets/base",
            "_view_module_version": "1.2.0",
            "_view_name": "StyleView",
            "bar_color": null,
            "description_width": ""
          }
        },
        "e011c6199d8848349297dcfe4be3b896": {
          "model_module": "@jupyter-widgets/base",
          "model_name": "LayoutModel",
          "model_module_version": "1.2.0",
          "state": {
            "_model_module": "@jupyter-widgets/base",
            "_model_module_version": "1.2.0",
            "_model_name": "LayoutModel",
            "_view_count": null,
            "_view_module": "@jupyter-widgets/base",
            "_view_module_version": "1.2.0",
            "_view_name": "LayoutView",
            "align_content": null,
            "align_items": null,
            "align_self": null,
            "border": null,
            "bottom": null,
            "display": null,
            "flex": null,
            "flex_flow": null,
            "grid_area": null,
            "grid_auto_columns": null,
            "grid_auto_flow": null,
            "grid_auto_rows": null,
            "grid_column": null,
            "grid_gap": null,
            "grid_row": null,
            "grid_template_areas": null,
            "grid_template_columns": null,
            "grid_template_rows": null,
            "height": null,
            "justify_content": null,
            "justify_items": null,
            "left": null,
            "margin": null,
            "max_height": null,
            "max_width": null,
            "min_height": null,
            "min_width": null,
            "object_fit": null,
            "object_position": null,
            "order": null,
            "overflow": null,
            "overflow_x": null,
            "overflow_y": null,
            "padding": null,
            "right": null,
            "top": null,
            "visibility": null,
            "width": null
          }
        },
        "c4b4daa911c34a85824258782d562ad3": {
          "model_module": "@jupyter-widgets/controls",
          "model_name": "DescriptionStyleModel",
          "model_module_version": "1.5.0",
          "state": {
            "_model_module": "@jupyter-widgets/controls",
            "_model_module_version": "1.5.0",
            "_model_name": "DescriptionStyleModel",
            "_view_count": null,
            "_view_module": "@jupyter-widgets/base",
            "_view_module_version": "1.2.0",
            "_view_name": "StyleView",
            "description_width": ""
          }
        },
        "b5f8529e08b8420aa0d133a9cc5508b4": {
          "model_module": "@jupyter-widgets/controls",
          "model_name": "HBoxModel",
          "model_module_version": "1.5.0",
          "state": {
            "_dom_classes": [],
            "_model_module": "@jupyter-widgets/controls",
            "_model_module_version": "1.5.0",
            "_model_name": "HBoxModel",
            "_view_count": null,
            "_view_module": "@jupyter-widgets/controls",
            "_view_module_version": "1.5.0",
            "_view_name": "HBoxView",
            "box_style": "",
            "children": [
              "IPY_MODEL_8f77a9ec10b84895a328f7fd64a925b1",
              "IPY_MODEL_bd4415c9b5e942c3bb1bdf1a561501b6",
              "IPY_MODEL_a5529e9b4a5e4022bbbc5d122d521bf5"
            ],
            "layout": "IPY_MODEL_80d1a2c98e6141c48dc142917b367644"
          }
        },
        "8f77a9ec10b84895a328f7fd64a925b1": {
          "model_module": "@jupyter-widgets/controls",
          "model_name": "HTMLModel",
          "model_module_version": "1.5.0",
          "state": {
            "_dom_classes": [],
            "_model_module": "@jupyter-widgets/controls",
            "_model_module_version": "1.5.0",
            "_model_name": "HTMLModel",
            "_view_count": null,
            "_view_module": "@jupyter-widgets/controls",
            "_view_module_version": "1.5.0",
            "_view_name": "HTMLView",
            "description": "",
            "description_tooltip": null,
            "layout": "IPY_MODEL_9a605e1a195e49fd8b0ed27831447644",
            "placeholder": "​",
            "style": "IPY_MODEL_067c82021fd0467fb9f17932ad05d7c6",
            "value": "100%"
          }
        },
        "bd4415c9b5e942c3bb1bdf1a561501b6": {
          "model_module": "@jupyter-widgets/controls",
          "model_name": "FloatProgressModel",
          "model_module_version": "1.5.0",
          "state": {
            "_dom_classes": [],
            "_model_module": "@jupyter-widgets/controls",
            "_model_module_version": "1.5.0",
            "_model_name": "FloatProgressModel",
            "_view_count": null,
            "_view_module": "@jupyter-widgets/controls",
            "_view_module_version": "1.5.0",
            "_view_name": "ProgressView",
            "bar_style": "success",
            "description": "",
            "description_tooltip": null,
            "layout": "IPY_MODEL_6d8c8d52beb742c28220c17e36f6b13b",
            "max": 4542,
            "min": 0,
            "orientation": "horizontal",
            "style": "IPY_MODEL_3f41198298f1450db9394f593c494bda",
            "value": 4542
          }
        },
        "a5529e9b4a5e4022bbbc5d122d521bf5": {
          "model_module": "@jupyter-widgets/controls",
          "model_name": "HTMLModel",
          "model_module_version": "1.5.0",
          "state": {
            "_dom_classes": [],
            "_model_module": "@jupyter-widgets/controls",
            "_model_module_version": "1.5.0",
            "_model_name": "HTMLModel",
            "_view_count": null,
            "_view_module": "@jupyter-widgets/controls",
            "_view_module_version": "1.5.0",
            "_view_name": "HTMLView",
            "description": "",
            "description_tooltip": null,
            "layout": "IPY_MODEL_eb6a60bf81a84dacbc95a69dda005a03",
            "placeholder": "​",
            "style": "IPY_MODEL_0f389d1cf0cd40749f7a1554148ea00c",
            "value": " 4542/4542 [00:00&lt;00:00, 156992.17it/s]"
          }
        },
        "80d1a2c98e6141c48dc142917b367644": {
          "model_module": "@jupyter-widgets/base",
          "model_name": "LayoutModel",
          "model_module_version": "1.2.0",
          "state": {
            "_model_module": "@jupyter-widgets/base",
            "_model_module_version": "1.2.0",
            "_model_name": "LayoutModel",
            "_view_count": null,
            "_view_module": "@jupyter-widgets/base",
            "_view_module_version": "1.2.0",
            "_view_name": "LayoutView",
            "align_content": null,
            "align_items": null,
            "align_self": null,
            "border": null,
            "bottom": null,
            "display": null,
            "flex": null,
            "flex_flow": null,
            "grid_area": null,
            "grid_auto_columns": null,
            "grid_auto_flow": null,
            "grid_auto_rows": null,
            "grid_column": null,
            "grid_gap": null,
            "grid_row": null,
            "grid_template_areas": null,
            "grid_template_columns": null,
            "grid_template_rows": null,
            "height": null,
            "justify_content": null,
            "justify_items": null,
            "left": null,
            "margin": null,
            "max_height": null,
            "max_width": null,
            "min_height": null,
            "min_width": null,
            "object_fit": null,
            "object_position": null,
            "order": null,
            "overflow": null,
            "overflow_x": null,
            "overflow_y": null,
            "padding": null,
            "right": null,
            "top": null,
            "visibility": null,
            "width": null
          }
        },
        "9a605e1a195e49fd8b0ed27831447644": {
          "model_module": "@jupyter-widgets/base",
          "model_name": "LayoutModel",
          "model_module_version": "1.2.0",
          "state": {
            "_model_module": "@jupyter-widgets/base",
            "_model_module_version": "1.2.0",
            "_model_name": "LayoutModel",
            "_view_count": null,
            "_view_module": "@jupyter-widgets/base",
            "_view_module_version": "1.2.0",
            "_view_name": "LayoutView",
            "align_content": null,
            "align_items": null,
            "align_self": null,
            "border": null,
            "bottom": null,
            "display": null,
            "flex": null,
            "flex_flow": null,
            "grid_area": null,
            "grid_auto_columns": null,
            "grid_auto_flow": null,
            "grid_auto_rows": null,
            "grid_column": null,
            "grid_gap": null,
            "grid_row": null,
            "grid_template_areas": null,
            "grid_template_columns": null,
            "grid_template_rows": null,
            "height": null,
            "justify_content": null,
            "justify_items": null,
            "left": null,
            "margin": null,
            "max_height": null,
            "max_width": null,
            "min_height": null,
            "min_width": null,
            "object_fit": null,
            "object_position": null,
            "order": null,
            "overflow": null,
            "overflow_x": null,
            "overflow_y": null,
            "padding": null,
            "right": null,
            "top": null,
            "visibility": null,
            "width": null
          }
        },
        "067c82021fd0467fb9f17932ad05d7c6": {
          "model_module": "@jupyter-widgets/controls",
          "model_name": "DescriptionStyleModel",
          "model_module_version": "1.5.0",
          "state": {
            "_model_module": "@jupyter-widgets/controls",
            "_model_module_version": "1.5.0",
            "_model_name": "DescriptionStyleModel",
            "_view_count": null,
            "_view_module": "@jupyter-widgets/base",
            "_view_module_version": "1.2.0",
            "_view_name": "StyleView",
            "description_width": ""
          }
        },
        "6d8c8d52beb742c28220c17e36f6b13b": {
          "model_module": "@jupyter-widgets/base",
          "model_name": "LayoutModel",
          "model_module_version": "1.2.0",
          "state": {
            "_model_module": "@jupyter-widgets/base",
            "_model_module_version": "1.2.0",
            "_model_name": "LayoutModel",
            "_view_count": null,
            "_view_module": "@jupyter-widgets/base",
            "_view_module_version": "1.2.0",
            "_view_name": "LayoutView",
            "align_content": null,
            "align_items": null,
            "align_self": null,
            "border": null,
            "bottom": null,
            "display": null,
            "flex": null,
            "flex_flow": null,
            "grid_area": null,
            "grid_auto_columns": null,
            "grid_auto_flow": null,
            "grid_auto_rows": null,
            "grid_column": null,
            "grid_gap": null,
            "grid_row": null,
            "grid_template_areas": null,
            "grid_template_columns": null,
            "grid_template_rows": null,
            "height": null,
            "justify_content": null,
            "justify_items": null,
            "left": null,
            "margin": null,
            "max_height": null,
            "max_width": null,
            "min_height": null,
            "min_width": null,
            "object_fit": null,
            "object_position": null,
            "order": null,
            "overflow": null,
            "overflow_x": null,
            "overflow_y": null,
            "padding": null,
            "right": null,
            "top": null,
            "visibility": null,
            "width": null
          }
        },
        "3f41198298f1450db9394f593c494bda": {
          "model_module": "@jupyter-widgets/controls",
          "model_name": "ProgressStyleModel",
          "model_module_version": "1.5.0",
          "state": {
            "_model_module": "@jupyter-widgets/controls",
            "_model_module_version": "1.5.0",
            "_model_name": "ProgressStyleModel",
            "_view_count": null,
            "_view_module": "@jupyter-widgets/base",
            "_view_module_version": "1.2.0",
            "_view_name": "StyleView",
            "bar_color": null,
            "description_width": ""
          }
        },
        "eb6a60bf81a84dacbc95a69dda005a03": {
          "model_module": "@jupyter-widgets/base",
          "model_name": "LayoutModel",
          "model_module_version": "1.2.0",
          "state": {
            "_model_module": "@jupyter-widgets/base",
            "_model_module_version": "1.2.0",
            "_model_name": "LayoutModel",
            "_view_count": null,
            "_view_module": "@jupyter-widgets/base",
            "_view_module_version": "1.2.0",
            "_view_name": "LayoutView",
            "align_content": null,
            "align_items": null,
            "align_self": null,
            "border": null,
            "bottom": null,
            "display": null,
            "flex": null,
            "flex_flow": null,
            "grid_area": null,
            "grid_auto_columns": null,
            "grid_auto_flow": null,
            "grid_auto_rows": null,
            "grid_column": null,
            "grid_gap": null,
            "grid_row": null,
            "grid_template_areas": null,
            "grid_template_columns": null,
            "grid_template_rows": null,
            "height": null,
            "justify_content": null,
            "justify_items": null,
            "left": null,
            "margin": null,
            "max_height": null,
            "max_width": null,
            "min_height": null,
            "min_width": null,
            "object_fit": null,
            "object_position": null,
            "order": null,
            "overflow": null,
            "overflow_x": null,
            "overflow_y": null,
            "padding": null,
            "right": null,
            "top": null,
            "visibility": null,
            "width": null
          }
        },
        "0f389d1cf0cd40749f7a1554148ea00c": {
          "model_module": "@jupyter-widgets/controls",
          "model_name": "DescriptionStyleModel",
          "model_module_version": "1.5.0",
          "state": {
            "_model_module": "@jupyter-widgets/controls",
            "_model_module_version": "1.5.0",
            "_model_name": "DescriptionStyleModel",
            "_view_count": null,
            "_view_module": "@jupyter-widgets/base",
            "_view_module_version": "1.2.0",
            "_view_name": "StyleView",
            "description_width": ""
          }
        },
        "96c630deb5aa40998789e0f888e60485": {
          "model_module": "@jupyter-widgets/controls",
          "model_name": "HBoxModel",
          "model_module_version": "1.5.0",
          "state": {
            "_dom_classes": [],
            "_model_module": "@jupyter-widgets/controls",
            "_model_module_version": "1.5.0",
            "_model_name": "HBoxModel",
            "_view_count": null,
            "_view_module": "@jupyter-widgets/controls",
            "_view_module_version": "1.5.0",
            "_view_name": "HBoxView",
            "box_style": "",
            "children": [
              "IPY_MODEL_dfdf885f0b424d2c9e6c1bf106f5770d",
              "IPY_MODEL_c692af083809457ebaab84c102e17d26",
              "IPY_MODEL_1a1dc0571d284bcfb9aa13d000c786a7"
            ],
            "layout": "IPY_MODEL_922b24bdf33e4b7c80d316ab9e6738e0"
          }
        },
        "dfdf885f0b424d2c9e6c1bf106f5770d": {
          "model_module": "@jupyter-widgets/controls",
          "model_name": "HTMLModel",
          "model_module_version": "1.5.0",
          "state": {
            "_dom_classes": [],
            "_model_module": "@jupyter-widgets/controls",
            "_model_module_version": "1.5.0",
            "_model_name": "HTMLModel",
            "_view_count": null,
            "_view_module": "@jupyter-widgets/controls",
            "_view_module_version": "1.5.0",
            "_view_name": "HTMLView",
            "description": "",
            "description_tooltip": null,
            "layout": "IPY_MODEL_d2cdc6d87d674f28a6a40de905338148",
            "placeholder": "​",
            "style": "IPY_MODEL_df86368d2d6e4a3d97e67ea66921860b",
            "value": "100%"
          }
        },
        "c692af083809457ebaab84c102e17d26": {
          "model_module": "@jupyter-widgets/controls",
          "model_name": "FloatProgressModel",
          "model_module_version": "1.5.0",
          "state": {
            "_dom_classes": [],
            "_model_module": "@jupyter-widgets/controls",
            "_model_module_version": "1.5.0",
            "_model_name": "FloatProgressModel",
            "_view_count": null,
            "_view_module": "@jupyter-widgets/controls",
            "_view_module_version": "1.5.0",
            "_view_name": "ProgressView",
            "bar_style": "success",
            "description": "",
            "description_tooltip": null,
            "layout": "IPY_MODEL_522bc77c5d6c43e4be16702a1cc33888",
            "max": 170498071,
            "min": 0,
            "orientation": "horizontal",
            "style": "IPY_MODEL_fa49327065514532a271b2b26938d750",
            "value": 170498071
          }
        },
        "1a1dc0571d284bcfb9aa13d000c786a7": {
          "model_module": "@jupyter-widgets/controls",
          "model_name": "HTMLModel",
          "model_module_version": "1.5.0",
          "state": {
            "_dom_classes": [],
            "_model_module": "@jupyter-widgets/controls",
            "_model_module_version": "1.5.0",
            "_model_name": "HTMLModel",
            "_view_count": null,
            "_view_module": "@jupyter-widgets/controls",
            "_view_module_version": "1.5.0",
            "_view_name": "HTMLView",
            "description": "",
            "description_tooltip": null,
            "layout": "IPY_MODEL_e29a12685ffb41b092eac92c478b3855",
            "placeholder": "​",
            "style": "IPY_MODEL_632f503daba64effb5a601419cc81618",
            "value": " 170498071/170498071 [00:13&lt;00:00, 13636090.83it/s]"
          }
        },
        "922b24bdf33e4b7c80d316ab9e6738e0": {
          "model_module": "@jupyter-widgets/base",
          "model_name": "LayoutModel",
          "model_module_version": "1.2.0",
          "state": {
            "_model_module": "@jupyter-widgets/base",
            "_model_module_version": "1.2.0",
            "_model_name": "LayoutModel",
            "_view_count": null,
            "_view_module": "@jupyter-widgets/base",
            "_view_module_version": "1.2.0",
            "_view_name": "LayoutView",
            "align_content": null,
            "align_items": null,
            "align_self": null,
            "border": null,
            "bottom": null,
            "display": null,
            "flex": null,
            "flex_flow": null,
            "grid_area": null,
            "grid_auto_columns": null,
            "grid_auto_flow": null,
            "grid_auto_rows": null,
            "grid_column": null,
            "grid_gap": null,
            "grid_row": null,
            "grid_template_areas": null,
            "grid_template_columns": null,
            "grid_template_rows": null,
            "height": null,
            "justify_content": null,
            "justify_items": null,
            "left": null,
            "margin": null,
            "max_height": null,
            "max_width": null,
            "min_height": null,
            "min_width": null,
            "object_fit": null,
            "object_position": null,
            "order": null,
            "overflow": null,
            "overflow_x": null,
            "overflow_y": null,
            "padding": null,
            "right": null,
            "top": null,
            "visibility": null,
            "width": null
          }
        },
        "d2cdc6d87d674f28a6a40de905338148": {
          "model_module": "@jupyter-widgets/base",
          "model_name": "LayoutModel",
          "model_module_version": "1.2.0",
          "state": {
            "_model_module": "@jupyter-widgets/base",
            "_model_module_version": "1.2.0",
            "_model_name": "LayoutModel",
            "_view_count": null,
            "_view_module": "@jupyter-widgets/base",
            "_view_module_version": "1.2.0",
            "_view_name": "LayoutView",
            "align_content": null,
            "align_items": null,
            "align_self": null,
            "border": null,
            "bottom": null,
            "display": null,
            "flex": null,
            "flex_flow": null,
            "grid_area": null,
            "grid_auto_columns": null,
            "grid_auto_flow": null,
            "grid_auto_rows": null,
            "grid_column": null,
            "grid_gap": null,
            "grid_row": null,
            "grid_template_areas": null,
            "grid_template_columns": null,
            "grid_template_rows": null,
            "height": null,
            "justify_content": null,
            "justify_items": null,
            "left": null,
            "margin": null,
            "max_height": null,
            "max_width": null,
            "min_height": null,
            "min_width": null,
            "object_fit": null,
            "object_position": null,
            "order": null,
            "overflow": null,
            "overflow_x": null,
            "overflow_y": null,
            "padding": null,
            "right": null,
            "top": null,
            "visibility": null,
            "width": null
          }
        },
        "df86368d2d6e4a3d97e67ea66921860b": {
          "model_module": "@jupyter-widgets/controls",
          "model_name": "DescriptionStyleModel",
          "model_module_version": "1.5.0",
          "state": {
            "_model_module": "@jupyter-widgets/controls",
            "_model_module_version": "1.5.0",
            "_model_name": "DescriptionStyleModel",
            "_view_count": null,
            "_view_module": "@jupyter-widgets/base",
            "_view_module_version": "1.2.0",
            "_view_name": "StyleView",
            "description_width": ""
          }
        },
        "522bc77c5d6c43e4be16702a1cc33888": {
          "model_module": "@jupyter-widgets/base",
          "model_name": "LayoutModel",
          "model_module_version": "1.2.0",
          "state": {
            "_model_module": "@jupyter-widgets/base",
            "_model_module_version": "1.2.0",
            "_model_name": "LayoutModel",
            "_view_count": null,
            "_view_module": "@jupyter-widgets/base",
            "_view_module_version": "1.2.0",
            "_view_name": "LayoutView",
            "align_content": null,
            "align_items": null,
            "align_self": null,
            "border": null,
            "bottom": null,
            "display": null,
            "flex": null,
            "flex_flow": null,
            "grid_area": null,
            "grid_auto_columns": null,
            "grid_auto_flow": null,
            "grid_auto_rows": null,
            "grid_column": null,
            "grid_gap": null,
            "grid_row": null,
            "grid_template_areas": null,
            "grid_template_columns": null,
            "grid_template_rows": null,
            "height": null,
            "justify_content": null,
            "justify_items": null,
            "left": null,
            "margin": null,
            "max_height": null,
            "max_width": null,
            "min_height": null,
            "min_width": null,
            "object_fit": null,
            "object_position": null,
            "order": null,
            "overflow": null,
            "overflow_x": null,
            "overflow_y": null,
            "padding": null,
            "right": null,
            "top": null,
            "visibility": null,
            "width": null
          }
        },
        "fa49327065514532a271b2b26938d750": {
          "model_module": "@jupyter-widgets/controls",
          "model_name": "ProgressStyleModel",
          "model_module_version": "1.5.0",
          "state": {
            "_model_module": "@jupyter-widgets/controls",
            "_model_module_version": "1.5.0",
            "_model_name": "ProgressStyleModel",
            "_view_count": null,
            "_view_module": "@jupyter-widgets/base",
            "_view_module_version": "1.2.0",
            "_view_name": "StyleView",
            "bar_color": null,
            "description_width": ""
          }
        },
        "e29a12685ffb41b092eac92c478b3855": {
          "model_module": "@jupyter-widgets/base",
          "model_name": "LayoutModel",
          "model_module_version": "1.2.0",
          "state": {
            "_model_module": "@jupyter-widgets/base",
            "_model_module_version": "1.2.0",
            "_model_name": "LayoutModel",
            "_view_count": null,
            "_view_module": "@jupyter-widgets/base",
            "_view_module_version": "1.2.0",
            "_view_name": "LayoutView",
            "align_content": null,
            "align_items": null,
            "align_self": null,
            "border": null,
            "bottom": null,
            "display": null,
            "flex": null,
            "flex_flow": null,
            "grid_area": null,
            "grid_auto_columns": null,
            "grid_auto_flow": null,
            "grid_auto_rows": null,
            "grid_column": null,
            "grid_gap": null,
            "grid_row": null,
            "grid_template_areas": null,
            "grid_template_columns": null,
            "grid_template_rows": null,
            "height": null,
            "justify_content": null,
            "justify_items": null,
            "left": null,
            "margin": null,
            "max_height": null,
            "max_width": null,
            "min_height": null,
            "min_width": null,
            "object_fit": null,
            "object_position": null,
            "order": null,
            "overflow": null,
            "overflow_x": null,
            "overflow_y": null,
            "padding": null,
            "right": null,
            "top": null,
            "visibility": null,
            "width": null
          }
        },
        "632f503daba64effb5a601419cc81618": {
          "model_module": "@jupyter-widgets/controls",
          "model_name": "DescriptionStyleModel",
          "model_module_version": "1.5.0",
          "state": {
            "_model_module": "@jupyter-widgets/controls",
            "_model_module_version": "1.5.0",
            "_model_name": "DescriptionStyleModel",
            "_view_count": null,
            "_view_module": "@jupyter-widgets/base",
            "_view_module_version": "1.2.0",
            "_view_name": "StyleView",
            "description_width": ""
          }
        }
      }
    }
  },
  "nbformat": 4,
  "nbformat_minor": 0
}